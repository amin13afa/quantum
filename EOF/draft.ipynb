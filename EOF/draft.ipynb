{
 "cells": [
  {
   "cell_type": "code",
   "execution_count": 1,
   "id": "e2b16e9b",
   "metadata": {},
   "outputs": [],
   "source": [
    "import numpy as np \n",
    "import qiskit\n",
    "from qiskit.quantum_info import purity"
   ]
  },
  {
   "cell_type": "code",
   "execution_count": 2,
   "id": "2280e967",
   "metadata": {},
   "outputs": [],
   "source": [
    "global qubit \n",
    "qubit = 4"
   ]
  },
  {
   "cell_type": "code",
   "execution_count": 3,
   "id": "27c116b0",
   "metadata": {},
   "outputs": [],
   "source": [
    "# func to def labels\n",
    "def labelCreation(qubit:int):\n",
    "    labels = []\n",
    "    for j in range(2**qubit):\n",
    "        b = bin(j).replace(\"0b\",\"\")\n",
    "        if len(b) < qubit:\n",
    "            n = qubit - len(b)\n",
    "            b = n*\"0\"+b\n",
    "        labels.append(b)\n",
    "    return labels"
   ]
  },
  {
   "cell_type": "code",
   "execution_count": 4,
   "id": "b18b5402",
   "metadata": {},
   "outputs": [],
   "source": [
    "ρ_labels = labelCreation(qubit)\n",
    "# ρ_pt_labels = labelCreation(qubit-1);"
   ]
  },
  {
   "cell_type": "code",
   "execution_count": 19,
   "id": "8ae9d35b",
   "metadata": {},
   "outputs": [
    {
     "name": "stdout",
     "output_type": "stream",
     "text": [
      "j =  0 -->  000\n",
      "j =  1 -->  001\n",
      "j =  2 -->  010\n",
      "j =  3 -->  011\n",
      "j =  4 -->  100\n",
      "j =  5 -->  101\n",
      "j =  6 -->  110\n",
      "j =  7 -->  111\n"
     ]
    }
   ],
   "source": [
    "for j in range(len(ρ_labels)):\n",
    "    print(\"j = \",j,\"--> \", ρ_labels[j]);"
   ]
  },
  {
   "cell_type": "code",
   "execution_count": 25,
   "id": "9ca076ae",
   "metadata": {},
   "outputs": [
    {
     "name": "stdout",
     "output_type": "stream",
     "text": [
      "j = 0, coef = 0.7071067811865475, label = 000\n",
      "j = 1, coef = 0.0, label = 001\n",
      "j = 2, coef = 0.0, label = 010\n",
      "j = 3, coef = 0.0, label = 011\n",
      "j = 4, coef = 0.0, label = 100\n",
      "j = 5, coef = 0.7071067811865475, label = 101\n",
      "j = 6, coef = 0.0, label = 110\n",
      "j = 7, coef = 0.0, label = 111\n"
     ]
    }
   ],
   "source": [
    "coef = np.zeros(2**qubit)\n",
    "coef[0] = 1/np.sqrt(2);\n",
    "coef[5] = 1/np.sqrt(2);\n",
    "# coef[10] = 1/2;\n",
    "# coef[15] = -1/2;\n",
    "for j in range(len(ρ_labels)):\n",
    "    print(\"j = {}, coef = {}, label = {}\".format(j,coef[j],ρ_labels[j]))"
   ]
  },
  {
   "cell_type": "code",
   "execution_count": 21,
   "id": "17d7eb81",
   "metadata": {},
   "outputs": [
    {
     "name": "stdout",
     "output_type": "stream",
     "text": [
      "j = 0, coef = 0.7071067811865475, label = 00\n",
      "j = 1, coef = 0.0, label = 01\n",
      "j = 2, coef = 0.0, label = 10\n",
      "j = 3, coef = 0.0, label = 11\n"
     ]
    }
   ],
   "source": [
    "coef1 = np.zeros(2**qubit-1)\n",
    "coef1[0] = 1/np.sqrt(2);\n",
    "coef1[5] = 1/np.sqrt(2);\n",
    "for j in range(len(ρ_pt_labels)):\n",
    "    print(\"j = {}, coef = {}, label = {}\".format(j,coef1[j],ρ_pt_labels[j]))"
   ]
  },
  {
   "cell_type": "code",
   "execution_count": 11,
   "id": "8a696485",
   "metadata": {},
   "outputs": [
    {
     "name": "stdout",
     "output_type": "stream",
     "text": [
      "j = 0, coef = 0.0, label = 000\n",
      "j = 1, coef = 0.0, label = 001\n",
      "j = 2, coef = 0.7071067811865475, label = 010\n",
      "j = 3, coef = 0.0, label = 011\n",
      "j = 4, coef = 0.0, label = 100\n",
      "j = 5, coef = 0.0, label = 101\n",
      "j = 6, coef = 0.0, label = 110\n",
      "j = 7, coef = -0.7071067811865475, label = 111\n"
     ]
    }
   ],
   "source": [
    "coef2 = np.zeros(2**qubit-1)\n",
    "coef2[2] = 1/np.sqrt(2)\n",
    "coef2[7] = -1/np.sqrt(2)\n",
    "for j in range(len(ρ_pt_labels)):\n",
    "    print(\"j = {}, coef = {}, label = {}\".format(j,coef2[j],ρ_pt_labels[j]))"
   ]
  },
  {
   "cell_type": "code",
   "execution_count": 22,
   "id": "49126835",
   "metadata": {},
   "outputs": [],
   "source": [
    "# func to def state vector and dm \n",
    "def StateCreation(coef,labels,qubit):\n",
    "    if np.isclose(np.linalg.norm(coef),1):\n",
    "        ψ = qiskit.quantum_info.Statevector(np.zeros(2**qubit))\n",
    "        for j in range(len(labels)):\n",
    "            ψ += coef[j]*qiskit.quantum_info.Statevector.from_label(labels[j])\n",
    "        ρ = qiskit.quantum_info.DensityMatrix(ψ)\n",
    "    else:\n",
    "        raise TypeError(\"The coefficient vector is not normalized\")\n",
    "    return ψ, ρ\n"
   ]
  },
  {
   "cell_type": "code",
   "execution_count": 26,
   "id": "a7ec683e",
   "metadata": {},
   "outputs": [
    {
     "data": {
      "text/latex": [
       "$$\\frac{\\sqrt{2}}{2} |000\\rangle+\\frac{\\sqrt{2}}{2} |101\\rangle$$"
      ],
      "text/plain": [
       "<IPython.core.display.Latex object>"
      ]
     },
     "execution_count": 26,
     "metadata": {},
     "output_type": "execute_result"
    }
   ],
   "source": [
    "ψ, ρ = StateCreation(coef, ρ_labels,qubit)\n",
    "ψ.draw('latex')"
   ]
  },
  {
   "cell_type": "code",
   "execution_count": 18,
   "id": "98f17705",
   "metadata": {},
   "outputs": [
    {
     "data": {
      "text/latex": [
       "$$\\frac{\\sqrt{2}}{2} |000\\rangle+\\frac{\\sqrt{2}}{2} |101\\rangle$$"
      ],
      "text/plain": [
       "<IPython.core.display.Latex object>"
      ]
     },
     "execution_count": 18,
     "metadata": {},
     "output_type": "execute_result"
    }
   ],
   "source": [
    "ψ1, ρ1 = StateCreation(coef1, ρ_pt_labels,qubit-1)\n",
    "ψ1.draw('latex')"
   ]
  },
  {
   "cell_type": "code",
   "execution_count": 20,
   "id": "a8ad0c4a",
   "metadata": {},
   "outputs": [
    {
     "data": {
      "text/latex": [
       "$$\\frac{\\sqrt{2}}{2} |010\\rangle- \\frac{\\sqrt{2}}{2} |111\\rangle$$"
      ],
      "text/plain": [
       "<IPython.core.display.Latex object>"
      ]
     },
     "execution_count": 20,
     "metadata": {},
     "output_type": "execute_result"
    }
   ],
   "source": [
    "ψ2, ρ2 = StateCreation(coef2, ρ_pt_labels, qubit-1)\n",
    "ψ2.draw('latex')"
   ]
  },
  {
   "cell_type": "code",
   "execution_count": 27,
   "id": "fdaba8f0",
   "metadata": {},
   "outputs": [
    {
     "name": "stdout",
     "output_type": "stream",
     "text": [
      "(0.9999999999999996+0j)\n"
     ]
    }
   ],
   "source": [
    "print(purity(ρ))\n",
    "# print(purity(ρ1))\n",
    "# print(purity(ρ2))"
   ]
  },
  {
   "cell_type": "code",
   "execution_count": 10,
   "id": "69944231",
   "metadata": {},
   "outputs": [],
   "source": [
    "ρ1.data;"
   ]
  },
  {
   "cell_type": "code",
   "execution_count": 28,
   "id": "27e6e002",
   "metadata": {},
   "outputs": [
    {
     "data": {
      "text/latex": [
       "$$\n",
       "\n",
       "\\begin{bmatrix}\n",
       "\\frac{1}{2} & 0 & 0 & 0 & 0 & \\frac{1}{2} & 0 & 0  \\\\\n",
       " 0 & 0 & 0 & 0 & 0 & 0 & 0 & 0  \\\\\n",
       " 0 & 0 & 0 & 0 & 0 & 0 & 0 & 0  \\\\\n",
       " 0 & 0 & 0 & 0 & 0 & 0 & 0 & 0  \\\\\n",
       " 0 & 0 & 0 & 0 & 0 & 0 & 0 & 0  \\\\\n",
       " \\frac{1}{2} & 0 & 0 & 0 & 0 & \\frac{1}{2} & 0 & 0  \\\\\n",
       " 0 & 0 & 0 & 0 & 0 & 0 & 0 & 0  \\\\\n",
       " 0 & 0 & 0 & 0 & 0 & 0 & 0 & 0  \\\\\n",
       " \\end{bmatrix}\n",
       "$$"
      ],
      "text/plain": [
       "<IPython.core.display.Latex object>"
      ]
     },
     "execution_count": 28,
     "metadata": {},
     "output_type": "execute_result"
    }
   ],
   "source": [
    "ρ.draw('latex')"
   ]
  },
  {
   "cell_type": "code",
   "execution_count": 29,
   "id": "6f1b505b",
   "metadata": {},
   "outputs": [],
   "source": [
    "# ???    # [1,2,3]\n",
    "def PartialTrace(ρ,L:list):\n",
    "#     L.sort()\n",
    "    pt0 = []\n",
    "    pt1 = []\n",
    "    pt2 = []\n",
    "    pt3 = []\n",
    "    if np.isin(0,L):\n",
    "        pt0.append(ρ)\n",
    "        \n",
    "    if np.isin(1,L) and len(ρ.dims()) > 1:\n",
    "        for j in range(len(ρ.dims())):\n",
    "            pt1.append(qiskit.quantum_info.partial_trace(ρ,[j]))\n",
    "    \n",
    "    if np.isin(2,L) and len(ρ.dims()) > 2:\n",
    "        for j in range(len(ρ.dims())-1):\n",
    "            pt2.append(qiskit.quantum_info.partial_trace(ρ,[j,j+1]))\n",
    "            if j+2 < len(ρ.dims()):\n",
    "                pt2.append(qiskit.quantum_info.partial_trace(ρ,[j,j+2]))\n",
    "                if j+3 < len(ρ.dims()):\n",
    "                    pt2.append(qiskit.quantum_info.partial_trace(ρ,[j,j+3]))\n",
    "                    \n",
    "    if np.isin(3,L) and len(ρ.dims()) > 3:\n",
    "        for j in range(len(ρ.dims())-2):\n",
    "            pt3.append(qiskit.quantum_info.partial_trace(ρ,[j,j+1,j+2]))\n",
    "            if j+3 < len(ρ.dims()):\n",
    "                pt3.append(qiskit.quantum_info.partial_trace(ρ,[j,j+1,j+3]))\n",
    "                if j+1 < len(ρ.dims())-2:\n",
    "                    pt3.append(qiskit.quantum_info.partial_trace(ρ,[j,j+2,j+3]))\n",
    "                    \n",
    "    partial_trace = {\n",
    "        \"partial_trace_0\" : pt0,\n",
    "        \"partial_trace_1\" : pt1,\n",
    "        \"partial_trace_2\" : pt2,\n",
    "        \"partial_trace_3\" : pt3\n",
    "    }\n",
    "                        \n",
    "    return partial_trace     "
   ]
  },
  {
   "cell_type": "code",
   "execution_count": 30,
   "id": "77083947",
   "metadata": {},
   "outputs": [
    {
     "data": {
      "text/plain": [
       "3"
      ]
     },
     "execution_count": 30,
     "metadata": {},
     "output_type": "execute_result"
    }
   ],
   "source": [
    "ρ_pt = PartialTrace(ρ, [1,2,3])\n",
    "len(ρ_pt['partial_trace_1'])"
   ]
  },
  {
   "cell_type": "code",
   "execution_count": 34,
   "id": "12aed75c",
   "metadata": {},
   "outputs": [
    {
     "data": {
      "text/plain": [
       "dict_keys(['partial_trace_0', 'partial_trace_1', 'partial_trace_2', 'partial_trace_3'])"
      ]
     },
     "execution_count": 34,
     "metadata": {},
     "output_type": "execute_result"
    }
   ],
   "source": [
    "ρ_pt.keys()"
   ]
  },
  {
   "cell_type": "code",
   "execution_count": 65,
   "id": "7da47a3b",
   "metadata": {},
   "outputs": [
    {
     "name": "stdout",
     "output_type": "stream",
     "text": [
      "True\n",
      "purity=  (0.4999999999999998+0j)\n"
     ]
    }
   ],
   "source": [
    "print(ρ_pt[\"partial_trace_1\"][0].is_valid())\n",
    "print(\"purity= \", purity(ρ_pt[\"partial_trace_1\"][0]))"
   ]
  },
  {
   "cell_type": "code",
   "execution_count": 39,
   "id": "72a4e24e",
   "metadata": {},
   "outputs": [
    {
     "data": {
      "text/plain": [
       "array([[0.5, 0. , 0. , 0. , 0. , 0.5, 0. , 0. ],\n",
       "       [0. , 0. , 0. , 0. , 0. , 0. , 0. , 0. ],\n",
       "       [0. , 0. , 0. , 0. , 0. , 0. , 0. , 0. ],\n",
       "       [0. , 0. , 0. , 0. , 0. , 0. , 0. , 0. ],\n",
       "       [0. , 0. , 0. , 0. , 0. , 0. , 0. , 0. ],\n",
       "       [0.5, 0. , 0. , 0. , 0. , 0.5, 0. , 0. ],\n",
       "       [0. , 0. , 0. , 0. , 0. , 0. , 0. , 0. ],\n",
       "       [0. , 0. , 0. , 0. , 0. , 0. , 0. , 0. ]])"
      ]
     },
     "execution_count": 39,
     "metadata": {},
     "output_type": "execute_result"
    }
   ],
   "source": [
    "ρ1.data.real"
   ]
  },
  {
   "cell_type": "code",
   "execution_count": 42,
   "id": "9221d115",
   "metadata": {},
   "outputs": [
    {
     "data": {
      "text/plain": [
       "True"
      ]
     },
     "execution_count": 42,
     "metadata": {},
     "output_type": "execute_result"
    }
   ],
   "source": [
    "0.5*ρ1 + 0.5*ρ2 == ρ_pt[\"partial_trace_1\"][3]"
   ]
  },
  {
   "cell_type": "code",
   "execution_count": 58,
   "id": "b292ecbb",
   "metadata": {},
   "outputs": [],
   "source": [
    "a1 = ρ1.data.real\n",
    "a2 = ρ2.data.real\n",
    "A = np.transpose(np.array([a1.flatten(), a2.flatten()]))"
   ]
  },
  {
   "cell_type": "code",
   "execution_count": 62,
   "id": "18adfddf",
   "metadata": {},
   "outputs": [
    {
     "data": {
      "text/plain": [
       "(64, 1)"
      ]
     },
     "execution_count": 62,
     "metadata": {},
     "output_type": "execute_result"
    }
   ],
   "source": [
    "B = np.reshape(ρ_pt[\"partial_trace_1\"][3].data.real, [64,1])\n",
    "B.shape"
   ]
  },
  {
   "cell_type": "code",
   "execution_count": 64,
   "id": "adfde7a6",
   "metadata": {},
   "outputs": [],
   "source": [
    "from scipy import linalg"
   ]
  },
  {
   "cell_type": "code",
   "execution_count": 66,
   "id": "30d0c6eb",
   "metadata": {},
   "outputs": [
    {
     "data": {
      "text/plain": [
       "(array([[0.5],\n",
       "        [0.5]]),\n",
       " array([2.56790659e-34]),\n",
       " 2,\n",
       " array([1., 1.]))"
      ]
     },
     "execution_count": 66,
     "metadata": {},
     "output_type": "execute_result"
    }
   ],
   "source": [
    "linalg.lstsq(A,B)"
   ]
  },
  {
   "cell_type": "code",
   "execution_count": 67,
   "id": "61e7ba09",
   "metadata": {},
   "outputs": [
    {
     "data": {
      "text/plain": [
       "array([[0.5],\n",
       "       [0.5]])"
      ]
     },
     "execution_count": 67,
     "metadata": {},
     "output_type": "execute_result"
    }
   ],
   "source": [
    "# x = np.linalg.solve(A,B)\n",
    "np.linalg.pinv(A) @ B"
   ]
  },
  {
   "cell_type": "code",
   "execution_count": null,
   "id": "ed40b0ef",
   "metadata": {},
   "outputs": [],
   "source": []
  },
  {
   "cell_type": "code",
   "execution_count": null,
   "id": "65c57de8",
   "metadata": {},
   "outputs": [],
   "source": []
  },
  {
   "cell_type": "code",
   "execution_count": 40,
   "id": "95280212",
   "metadata": {},
   "outputs": [
    {
     "name": "stdout",
     "output_type": "stream",
     "text": [
      "2\n",
      "[[ 0.25  0.    0.    0.    0.    0.25  0.    0.  ]\n",
      " [ 0.    0.    0.    0.    0.    0.    0.    0.  ]\n",
      " [ 0.    0.    0.25  0.    0.    0.    0.   -0.25]\n",
      " [ 0.    0.    0.    0.    0.    0.    0.    0.  ]\n",
      " [ 0.    0.    0.    0.    0.    0.    0.    0.  ]\n",
      " [ 0.25  0.    0.    0.    0.    0.25  0.    0.  ]\n",
      " [ 0.    0.    0.    0.    0.    0.    0.    0.  ]\n",
      " [ 0.    0.   -0.25  0.    0.    0.    0.    0.25]]\n"
     ]
    }
   ],
   "source": [
    "a0 = ρ1_pt[\"partial_trace_1\"][0].data.real\n",
    "print(np.linalg.matrix_rank(a0))\n",
    "\n",
    "print(a0)"
   ]
  },
  {
   "cell_type": "code",
   "execution_count": 39,
   "id": "838d838b",
   "metadata": {},
   "outputs": [
    {
     "name": "stdout",
     "output_type": "stream",
     "text": [
      "2\n",
      "[[ 0.25  0.    0.    0.25  0.    0.    0.    0.  ]\n",
      " [ 0.    0.    0.    0.    0.    0.    0.    0.  ]\n",
      " [ 0.    0.    0.    0.    0.    0.    0.    0.  ]\n",
      " [ 0.25  0.    0.    0.25  0.    0.    0.    0.  ]\n",
      " [ 0.    0.    0.    0.    0.25  0.    0.   -0.25]\n",
      " [ 0.    0.    0.    0.    0.    0.    0.    0.  ]\n",
      " [ 0.    0.    0.    0.    0.    0.    0.    0.  ]\n",
      " [ 0.    0.    0.    0.   -0.25  0.    0.    0.25]]\n"
     ]
    }
   ],
   "source": [
    "a0 = ρ1_pt[\"partial_trace_1\"][1].data.real\n",
    "print(np.linalg.matrix_rank(a0))\n",
    "print(a0)"
   ]
  },
  {
   "cell_type": "code",
   "execution_count": 29,
   "id": "533d6380",
   "metadata": {},
   "outputs": [
    {
     "name": "stdout",
     "output_type": "stream",
     "text": [
      "0.5\n",
      "0.5\n",
      "0.5\n",
      "0.5\n"
     ]
    }
   ],
   "source": [
    "for j in range(len(ρ1_pt[\"partial_trace_1\"])):\n",
    "    print(purity(ρ1_pt[\"partial_trace_1\"][j]).real)\n"
   ]
  },
  {
   "cell_type": "code",
   "execution_count": 15,
   "id": "3ddab437",
   "metadata": {},
   "outputs": [],
   "source": [
    "# Function to compute EOF for a three-partite system\n",
    "def EOF_3(ρ_pt): \n",
    "    eof_1 = []\n",
    "    eof_2 = []\n",
    "    entropy_1 = []\n",
    "    entropy_2 = []\n",
    "    if len(ρ_pt['partial_trace_1']) == 0:\n",
    "        pass\n",
    "    else:\n",
    "        for j in range(len(ρ_pt['partial_trace_1'])):\n",
    "            eof_1.append(qiskit.quantum_info.entanglement_of_formation(\n",
    "                ρ_pt['partial_trace_1'][j]))\n",
    "            entropy_1.append(qiskit.quantum_info.entropy(ρ_pt['partial_trace_1'][j]))\n",
    "    \n",
    "    if len(ρ_pt['partial_trace_2']) == 0:\n",
    "        pass \n",
    "    else:\n",
    "        for j in range(len(ρ_pt['partial_trace_2'])):\n",
    "            eof_2.append(qiskit.quantum_info.entanglement_of_formation(\n",
    "                ρ_pt['partial_trace_1'][j]))\n",
    "            entropy_2.append(qiskit.quantum_info.entropy(ρ_pt['partial_trace_2'][j]))\n",
    "            \n",
    "            \n",
    "    eof_1 = np.array(eof_1)\n",
    "    eof_2 = np.array(eof_2)\n",
    "    entropy_1 = np.array(entropy_1)\n",
    "    entropy_2 = np.array(entropy_2)\n",
    "    EOF = np.sum(eof_1+eof_2+entropy_1+entropy_2)/6\n",
    "    return EOF"
   ]
  },
  {
   "cell_type": "code",
   "execution_count": 21,
   "id": "e85cecea",
   "metadata": {},
   "outputs": [
    {
     "name": "stdout",
     "output_type": "stream",
     "text": [
      "3536\n"
     ]
    }
   ],
   "source": [
    "V = np.zeros((8,1))\n",
    "D = []\n",
    "start = 0;\n",
    "stop = 1.1;\n",
    "step = 0.2;\n",
    "num = 0;\n",
    "\n",
    "for v0 in np.arange(start, stop, step):\n",
    "    V[0,0] = v0\n",
    "    for v1 in np.arange(start, stop, step):\n",
    "        V[1,0] = v1\n",
    "        for v2 in np.arange(start, stop, step):\n",
    "            V[2,0] = v2\n",
    "            for v3 in np.arange(start, stop, step):\n",
    "                V[3,0] = v3\n",
    "                for v4 in np.arange(start, stop, step):\n",
    "                    V[4,0] = v4\n",
    "                    for v5 in np.arange(start, stop, step):\n",
    "                        V[5,0] = v5\n",
    "                        for v6 in np.arange(start, stop, step):\n",
    "                            V[6,0] = v6\n",
    "                            for v7 in np.arange(start, stop, step):\n",
    "                                V[7,0] = v7\n",
    "                                ρ = qiskit.quantum_info.DensityMatrix(np.outer(V,V))\n",
    "                                num += 1\n",
    "                                ρ_2 = qiskit.quantum_info.DensityMatrix(np.matmul(ρ.data,ρ.data))\n",
    "                                if ρ.is_valid() and ρ_2.is_valid():\n",
    "                                        D.append(ρ)\n",
    "                                    \n",
    "print(len(D))\n",
    "print(num)"
   ]
  },
  {
   "cell_type": "code",
   "execution_count": null,
   "id": "30a4ed8c",
   "metadata": {},
   "outputs": [],
   "source": [
    "DD = [x.data for x in D]\n",
    "np.save(\"Density_Matrix.npy\", DD, allow_pickle=True)\n",
    "# np.save(\"Density_Matrix.npy\", np.array(DD, dtype=object), allow_pickle=True)\n",
    "# D_read = np.load(\"Density_Matrix.npy\", allow_pickle= True)"
   ]
  },
  {
   "cell_type": "code",
   "execution_count": 24,
   "id": "af23b27c",
   "metadata": {},
   "outputs": [],
   "source": [
    "# D[1].purity()\n",
    "# np.isclose(qiskit.quantum_info.purity(D[10]),1 )\n",
    "# qiskit.quantum_info.DensityMatrix()"
   ]
  },
  {
   "cell_type": "markdown",
   "id": "b4810da0",
   "metadata": {},
   "source": [
    "# Save in h5"
   ]
  },
  {
   "cell_type": "code",
   "execution_count": 66,
   "id": "c0206e42",
   "metadata": {},
   "outputs": [],
   "source": [
    "import h5py"
   ]
  },
  {
   "cell_type": "code",
   "execution_count": null,
   "id": "658e36b3",
   "metadata": {},
   "outputs": [],
   "source": [
    "hf = h5py.File('r3.h5','w')"
   ]
  },
  {
   "cell_type": "code",
   "execution_count": null,
   "id": "1abf54cf",
   "metadata": {},
   "outputs": [],
   "source": []
  },
  {
   "cell_type": "code",
   "execution_count": 159,
   "id": "44fecfcd",
   "metadata": {},
   "outputs": [
    {
     "name": "stdout",
     "output_type": "stream",
     "text": [
      "<KeysViewHDF5 ['e_0', 'e_1', 'e_2']>\n"
     ]
    }
   ],
   "source": [
    "f = h5py.File(\"data.h5\", \"w\")\n",
    "for j in range(len(e)):\n",
    "    f.create_dataset(name=\"e_{}\".format(j), data=e[j])\n",
    "    \n",
    "print(f.keys())\n",
    "f.close()"
   ]
  },
  {
   "cell_type": "code",
   "execution_count": 161,
   "id": "1c7b683e",
   "metadata": {},
   "outputs": [
    {
     "name": "stdout",
     "output_type": "stream",
     "text": [
      "<KeysViewHDF5 ['e_0', 'e_1', 'e_2']>\n"
     ]
    }
   ],
   "source": [
    "ff = h5py.File(\"data.h5\", \"r\")\n",
    "print(ff.keys())\n",
    "W = []\n",
    "# for j in range(len(ff.keys())):\n",
    "#     W.append()\n",
    "for j in range(len(ff.keys())):\n",
    "    print(ff.keys())"
   ]
  },
  {
   "cell_type": "code",
   "execution_count": null,
   "id": "8dabe3cb",
   "metadata": {},
   "outputs": [],
   "source": []
  },
  {
   "cell_type": "code",
   "execution_count": 25,
   "id": "aa4d208e",
   "metadata": {},
   "outputs": [
    {
     "ename": "KeyboardInterrupt",
     "evalue": "",
     "output_type": "error",
     "traceback": [
      "\u001b[0;31m---------------------------------------------------------------------------\u001b[0m",
      "\u001b[0;31mKeyboardInterrupt\u001b[0m                         Traceback (most recent call last)",
      "\u001b[0;32m/tmp/ipykernel_31976/3379182030.py\u001b[0m in \u001b[0;36m<module>\u001b[0;34m\u001b[0m\n\u001b[1;32m      8\u001b[0m         \u001b[0;32mfor\u001b[0m \u001b[0mk\u001b[0m \u001b[0;32min\u001b[0m \u001b[0mrange\u001b[0m\u001b[0;34m(\u001b[0m\u001b[0mlen\u001b[0m\u001b[0;34m(\u001b[0m\u001b[0mD\u001b[0m\u001b[0;34m)\u001b[0m\u001b[0;34m)\u001b[0m\u001b[0;34m:\u001b[0m\u001b[0;34m\u001b[0m\u001b[0;34m\u001b[0m\u001b[0m\n\u001b[1;32m      9\u001b[0m             \u001b[0;32mfor\u001b[0m \u001b[0mp1\u001b[0m \u001b[0;32min\u001b[0m \u001b[0mnp\u001b[0m\u001b[0;34m.\u001b[0m\u001b[0marange\u001b[0m\u001b[0;34m(\u001b[0m\u001b[0mstart\u001b[0m\u001b[0;34m,\u001b[0m \u001b[0mstop\u001b[0m\u001b[0;34m,\u001b[0m \u001b[0mstep\u001b[0m\u001b[0;34m)\u001b[0m\u001b[0;34m:\u001b[0m\u001b[0;34m\u001b[0m\u001b[0;34m\u001b[0m\u001b[0m\n\u001b[0;32m---> 10\u001b[0;31m                 if np.isclose(np.linalg.norm(ρ1_pt['partial_trace_1'][i] -\\\n\u001b[0m\u001b[1;32m     11\u001b[0m                                              (p1*D[j] + (1-p1)*D[k]) ), 0.01):\n\u001b[1;32m     12\u001b[0m                     \u001b[0mS\u001b[0m\u001b[0;34m.\u001b[0m\u001b[0mappend\u001b[0m\u001b[0;34m(\u001b[0m\u001b[0;34m[\u001b[0m\u001b[0mi\u001b[0m\u001b[0;34m,\u001b[0m\u001b[0mρ1_pt\u001b[0m\u001b[0;34m[\u001b[0m\u001b[0mi\u001b[0m\u001b[0;34m]\u001b[0m\u001b[0;34m,\u001b[0m\u001b[0mD\u001b[0m\u001b[0;34m[\u001b[0m\u001b[0mj\u001b[0m\u001b[0;34m]\u001b[0m\u001b[0;34m,\u001b[0m\u001b[0mD\u001b[0m\u001b[0;34m[\u001b[0m\u001b[0mk\u001b[0m\u001b[0;34m]\u001b[0m\u001b[0;34m,\u001b[0m\u001b[0mp1\u001b[0m\u001b[0;34m,\u001b[0m\u001b[0mp2\u001b[0m\u001b[0;34m]\u001b[0m\u001b[0;34m)\u001b[0m\u001b[0;34m\u001b[0m\u001b[0;34m\u001b[0m\u001b[0m\n",
      "\u001b[0;32m<__array_function__ internals>\u001b[0m in \u001b[0;36misclose\u001b[0;34m(*args, **kwargs)\u001b[0m\n",
      "\u001b[0;31mKeyboardInterrupt\u001b[0m: "
     ]
    }
   ],
   "source": [
    "start = 0.0;\n",
    "stop = 1.1;\n",
    "step = 0.1;\n",
    "\n",
    "S = []\n",
    "for i in range(len(ρ1_pt['partial_trace_1'])):\n",
    "    for j in range(len(D)):\n",
    "        for k in range(len(D)):\n",
    "            for p1 in np.arange(start, stop, step):\n",
    "                if np.isclose(np.linalg.norm(ρ1_pt['partial_trace_1'][i] -\\\n",
    "                                             (p1*D[j] + (1-p1)*D[k]) ), 0.01):\n",
    "                    S.append([i,ρ1_pt[i],D[j],D[k],p1,p2])\n",
    "\n",
    "print(len(S))"
   ]
  },
  {
   "cell_type": "code",
   "execution_count": 20,
   "id": "1af8595e",
   "metadata": {},
   "outputs": [
    {
     "data": {
      "text/plain": [
       "4"
      ]
     },
     "execution_count": 20,
     "metadata": {},
     "output_type": "execute_result"
    }
   ],
   "source": [
    "start = 0.0;\n",
    "stop = 1.1;\n",
    "step = 0.1;\n",
    "\n",
    "S = []\n",
    "for i in range(len(ρ1_pt['partial_trace_1'])):\n",
    "    for j in range(len(D)):\n",
    "        for k in range(len(D)):\n",
    "            for p1 in np.arange(start, stop, step):\n",
    "                if p1*D[j] + (1-p1)*D[k] == ρ1_pt['partial_trace_1'][i]:\n",
    "                    S.append([i,ρ1_pt[i],D[j],D[k],p1,p2])"
   ]
  },
  {
   "cell_type": "code",
   "execution_count": null,
   "id": "3ac3ca63",
   "metadata": {},
   "outputs": [],
   "source": [
    "start = 0.0;\n",
    "stop = 1.1;\n",
    "step = 0.1;\n",
    "\n",
    "S0 = []\n",
    "for j in range(len(D)):\n",
    "    for k in range(len(D)):\n",
    "        for p1 in np.arange(start, stop, step):\n",
    "            if p1*D[j] + (1-p1)*D[k] == ρ1_pt['partial_trace_1'][0]:\n",
    "                S0.append([i,ρ1_pt[i],D[j],D[k],p1,p2])"
   ]
  },
  {
   "cell_type": "code",
   "execution_count": null,
   "id": "c127140d",
   "metadata": {},
   "outputs": [],
   "source": []
  },
  {
   "cell_type": "markdown",
   "id": "a28ad902",
   "metadata": {},
   "source": [
    "#  Convexhull"
   ]
  },
  {
   "cell_type": "code",
   "execution_count": 15,
   "id": "804b167e",
   "metadata": {},
   "outputs": [],
   "source": [
    "import numpy as np\n",
    "from scipy.optimize import linprog\n",
    "from scipy.spatial import ConvexHull "
   ]
  },
  {
   "cell_type": "code",
   "execution_count": 17,
   "id": "c61b15b9",
   "metadata": {},
   "outputs": [
    {
     "data": {
      "text/plain": [
       "array([[0.5, 0.5, 0. , 0. , 0. , 0. , 0. , 0. ],\n",
       "       [0.5, 0.5, 0. , 0. , 0. , 0. , 0. , 0. ],\n",
       "       [0. , 0. , 0. , 0. , 0. , 0. , 0. , 0. ],\n",
       "       [0. , 0. , 0. , 0. , 0. , 0. , 0. , 0. ],\n",
       "       [0. , 0. , 0. , 0. , 0. , 0. , 0. , 0. ],\n",
       "       [0. , 0. , 0. , 0. , 0. , 0. , 0. , 0. ],\n",
       "       [0. , 0. , 0. , 0. , 0. , 0. , 0. , 0. ],\n",
       "       [0. , 0. , 0. , 0. , 0. , 0. , 0. , 0. ]])"
      ]
     },
     "execution_count": 17,
     "metadata": {},
     "output_type": "execute_result"
    }
   ],
   "source": [
    "M0"
   ]
  },
  {
   "cell_type": "code",
   "execution_count": 62,
   "id": "9ab4d0d4",
   "metadata": {},
   "outputs": [
    {
     "data": {
      "text/plain": [
       "(64, 4)"
      ]
     },
     "execution_count": 62,
     "metadata": {},
     "output_type": "execute_result"
    }
   ],
   "source": [
    "a = np.zeros((64,4))\n",
    "a.shape"
   ]
  },
  {
   "cell_type": "code",
   "execution_count": 94,
   "id": "ca9f31a1",
   "metadata": {},
   "outputs": [],
   "source": [
    "a[:,0] = list(M0.flatten())\n",
    "a[:,1] = list(M1.flatten())\n",
    "a[:,2] = list(M2.flatten())\n",
    "a[:,3] = list(M3.flatten())"
   ]
  },
  {
   "cell_type": "code",
   "execution_count": 95,
   "id": "c827f42c",
   "metadata": {},
   "outputs": [
    {
     "data": {
      "text/plain": [
       "array([[0.5 , 0.5 , 0.25, 0.25],\n",
       "       [0.5 , 0.5 , 0.25, 0.25],\n",
       "       [0.  , 0.  , 0.25, 0.25],\n",
       "       [0.  , 0.  , 0.25, 0.25],\n",
       "       [0.  , 0.  , 0.  , 0.  ],\n",
       "       [0.  , 0.  , 0.  , 0.  ],\n",
       "       [0.  , 0.  , 0.  , 0.  ],\n",
       "       [0.  , 0.  , 0.  , 0.  ],\n",
       "       [0.5 , 0.5 , 0.25, 0.25],\n",
       "       [0.5 , 0.5 , 0.25, 0.25],\n",
       "       [0.  , 0.  , 0.25, 0.25],\n",
       "       [0.  , 0.  , 0.25, 0.25],\n",
       "       [0.  , 0.  , 0.  , 0.  ],\n",
       "       [0.  , 0.  , 0.  , 0.  ],\n",
       "       [0.  , 0.  , 0.  , 0.  ],\n",
       "       [0.  , 0.  , 0.  , 0.  ],\n",
       "       [0.  , 0.  , 0.25, 0.25],\n",
       "       [0.  , 0.  , 0.25, 0.25],\n",
       "       [0.  , 0.  , 0.25, 0.25],\n",
       "       [0.  , 0.  , 0.25, 0.25],\n",
       "       [0.  , 0.  , 0.  , 0.  ],\n",
       "       [0.  , 0.  , 0.  , 0.  ],\n",
       "       [0.  , 0.  , 0.  , 0.  ],\n",
       "       [0.  , 0.  , 0.  , 0.  ],\n",
       "       [0.  , 0.  , 0.25, 0.25],\n",
       "       [0.  , 0.  , 0.25, 0.25],\n",
       "       [0.  , 0.  , 0.25, 0.25],\n",
       "       [0.  , 0.  , 0.25, 0.25],\n",
       "       [0.  , 0.  , 0.  , 0.  ],\n",
       "       [0.  , 0.  , 0.  , 0.  ],\n",
       "       [0.  , 0.  , 0.  , 0.  ],\n",
       "       [0.  , 0.  , 0.  , 0.  ],\n",
       "       [0.  , 0.  , 0.  , 0.  ],\n",
       "       [0.  , 0.  , 0.  , 0.  ],\n",
       "       [0.  , 0.  , 0.  , 0.  ],\n",
       "       [0.  , 0.  , 0.  , 0.  ],\n",
       "       [0.  , 0.  , 0.  , 0.  ],\n",
       "       [0.  , 0.  , 0.  , 0.  ],\n",
       "       [0.  , 0.  , 0.  , 0.  ],\n",
       "       [0.  , 0.  , 0.  , 0.  ],\n",
       "       [0.  , 0.  , 0.  , 0.  ],\n",
       "       [0.  , 0.  , 0.  , 0.  ],\n",
       "       [0.  , 0.  , 0.  , 0.  ],\n",
       "       [0.  , 0.  , 0.  , 0.  ],\n",
       "       [0.  , 0.  , 0.  , 0.  ],\n",
       "       [0.  , 0.  , 0.  , 0.  ],\n",
       "       [0.  , 0.  , 0.  , 0.  ],\n",
       "       [0.  , 0.  , 0.  , 0.  ],\n",
       "       [0.  , 0.  , 0.  , 0.  ],\n",
       "       [0.  , 0.  , 0.  , 0.  ],\n",
       "       [0.  , 0.  , 0.  , 0.  ],\n",
       "       [0.  , 0.  , 0.  , 0.  ],\n",
       "       [0.  , 0.  , 0.  , 0.  ],\n",
       "       [0.  , 0.  , 0.  , 0.  ],\n",
       "       [0.  , 0.  , 0.  , 0.  ],\n",
       "       [0.  , 0.  , 0.  , 0.  ],\n",
       "       [0.  , 0.  , 0.  , 0.  ],\n",
       "       [0.  , 0.  , 0.  , 0.  ],\n",
       "       [0.  , 0.  , 0.  , 0.  ],\n",
       "       [0.  , 0.  , 0.  , 0.  ],\n",
       "       [0.  , 0.  , 0.  , 0.  ],\n",
       "       [0.  , 0.  , 0.  , 0.  ],\n",
       "       [0.  , 0.  , 0.  , 0.  ],\n",
       "       [0.  , 0.  , 0.  , 0.  ]])"
      ]
     },
     "execution_count": 95,
     "metadata": {},
     "output_type": "execute_result"
    }
   ],
   "source": [
    "a"
   ]
  },
  {
   "cell_type": "code",
   "execution_count": 97,
   "id": "94f508af",
   "metadata": {},
   "outputs": [
    {
     "data": {
      "text/plain": [
       "(64, 4)"
      ]
     },
     "execution_count": 97,
     "metadata": {},
     "output_type": "execute_result"
    }
   ],
   "source": []
  },
  {
   "cell_type": "code",
   "execution_count": null,
   "id": "24ece8df",
   "metadata": {},
   "outputs": [],
   "source": [
    "qhull_options='QJ'"
   ]
  },
  {
   "cell_type": "code",
   "execution_count": 20,
   "id": "5e6e6c0e",
   "metadata": {},
   "outputs": [
    {
     "data": {
      "text/plain": [
       "(8, 8)"
      ]
     },
     "execution_count": 20,
     "metadata": {},
     "output_type": "execute_result"
    }
   ],
   "source": [
    "M0.shape"
   ]
  },
  {
   "cell_type": "code",
   "execution_count": 27,
   "id": "57b3e5e3",
   "metadata": {},
   "outputs": [],
   "source": [
    "hull = ConvexHull(M0[:,3:5], qhull_options='QJ')"
   ]
  },
  {
   "cell_type": "code",
   "execution_count": 28,
   "id": "293224fd",
   "metadata": {},
   "outputs": [
    {
     "data": {
      "text/plain": [
       "array([0, 6, 2, 4, 3, 5], dtype=int32)"
      ]
     },
     "execution_count": 28,
     "metadata": {},
     "output_type": "execute_result"
    }
   ],
   "source": [
    "hull.vertices"
   ]
  },
  {
   "cell_type": "code",
   "execution_count": 29,
   "id": "7192711d",
   "metadata": {},
   "outputs": [
    {
     "data": {
      "text/plain": [
       "2"
      ]
     },
     "execution_count": 29,
     "metadata": {},
     "output_type": "execute_result"
    }
   ],
   "source": [
    "hull.ndim"
   ]
  },
  {
   "cell_type": "code",
   "execution_count": null,
   "id": "0b7f9296",
   "metadata": {},
   "outputs": [],
   "source": []
  },
  {
   "cell_type": "code",
   "execution_count": 30,
   "id": "4460624d",
   "metadata": {},
   "outputs": [
    {
     "data": {
      "text/plain": [
       "[array([0.5, 0.5, 0. , 0. , 0. , 0. , 0. , 0. ]),\n",
       " array([0., 0., 0., 0., 0., 0., 0., 0.]),\n",
       " array([0., 0., 0., 0., 0., 0., 0., 0.]),\n",
       " array([0., 0., 0., 0., 0., 0., 0., 0.]),\n",
       " array([0., 0., 0., 0., 0., 0., 0., 0.]),\n",
       " array([0., 0., 0., 0., 0., 0., 0., 0.])]"
      ]
     },
     "execution_count": 30,
     "metadata": {},
     "output_type": "execute_result"
    }
   ],
   "source": [
    "vertices = [M0[j] for j in hull.vertices]\n",
    "vertices"
   ]
  },
  {
   "cell_type": "code",
   "execution_count": 125,
   "id": "a510d4af",
   "metadata": {},
   "outputs": [
    {
     "name": "stdout",
     "output_type": "stream",
     "text": [
      "0.5 0.5 0.25 0.25\n",
      "0.5 0.5 0.25 0.25\n",
      "0.0 0.0 0.25 0.25\n",
      "0.0 0.0 0.25 0.25\n",
      "0.0 0.0 0.0 0.0\n",
      "0.0 0.0 0.0 0.0\n",
      "0.5 0.5 0.25 0.25\n",
      "0.5 0.5 0.25 0.25\n",
      "0.0 0.0 0.25 0.25\n",
      "0.0 0.0 0.25 0.25\n",
      "0.0 0.0 0.0 0.0\n",
      "0.0 0.0 0.25 0.25\n",
      "0.0 0.0 0.25 0.25\n",
      "0.0 0.0 0.25 0.25\n",
      "0.0 0.0 0.0 0.0\n",
      "0.0 0.0 0.0 0.0\n",
      "0.0 0.0 0.25 0.25\n",
      "0.0 0.0 0.25 0.25\n",
      "0.0 0.0 0.0 0.0\n",
      "0.0 0.0 0.0 0.0\n",
      "0.0 0.0 0.0 0.0\n",
      "0.0 0.0 0.0 0.0\n",
      "0.0 0.0 0.0 0.0\n",
      "0.0 0.0 0.0 0.0\n",
      "0.0 0.0 0.0 0.0\n",
      "0.0 0.0 0.0 0.0\n",
      "0.0 0.0 0.0 0.0\n",
      "0.0 0.0 0.0 0.0\n",
      "0.0 0.0 0.0 0.0\n",
      "0.0 0.0 0.0 0.0\n",
      "0.0 0.0 0.0 0.0\n",
      "0.0 0.0 0.0 0.0\n",
      "0.0 0.0 0.0 0.0\n",
      "0.0 0.0 0.0 0.0\n",
      "0.0 0.0 0.0 0.0\n"
     ]
    }
   ],
   "source": [
    "for a,b,c,d in vertices:\n",
    "    print(a,b,c,d)"
   ]
  },
  {
   "cell_type": "code",
   "execution_count": null,
   "id": "d21731f0",
   "metadata": {},
   "outputs": [],
   "source": []
  },
  {
   "cell_type": "code",
   "execution_count": null,
   "id": "6aa1eb53",
   "metadata": {},
   "outputs": [],
   "source": []
  },
  {
   "cell_type": "code",
   "execution_count": null,
   "id": "6804c250",
   "metadata": {},
   "outputs": [],
   "source": []
  }
 ],
 "metadata": {
  "kernelspec": {
   "display_name": "Python 3 (ipykernel)",
   "language": "python",
   "name": "python3"
  },
  "language_info": {
   "codemirror_mode": {
    "name": "ipython",
    "version": 3
   },
   "file_extension": ".py",
   "mimetype": "text/x-python",
   "name": "python",
   "nbconvert_exporter": "python",
   "pygments_lexer": "ipython3",
   "version": "3.9.13"
  }
 },
 "nbformat": 4,
 "nbformat_minor": 5
}
