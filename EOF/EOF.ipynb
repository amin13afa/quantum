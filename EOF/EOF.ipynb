{
 "cells": [
  {
   "cell_type": "markdown",
   "id": "e06c4b9a",
   "metadata": {},
   "source": [
    "## To Do List"
   ]
  },
  {
   "cell_type": "markdown",
   "id": "d0eef441",
   "metadata": {},
   "source": [
    "- [x] 1- Function to create labels\n",
    "- [x] 2- Function to create density matrix\n",
    "- [x] 1- Function to compute partial trace \n"
   ]
  },
  {
   "cell_type": "markdown",
   "id": "eadde0b3",
   "metadata": {},
   "source": [
    "### 1- Creation of DM for ch1 and ch2"
   ]
  },
  {
   "cell_type": "code",
   "execution_count": 1,
   "id": "99041731",
   "metadata": {},
   "outputs": [],
   "source": [
    "import numpy as np \n",
    "import qiskit"
   ]
  },
  {
   "cell_type": "code",
   "execution_count": 2,
   "id": "a1a2271b",
   "metadata": {},
   "outputs": [],
   "source": [
    "global qubit \n",
    "qubit = 4"
   ]
  },
  {
   "cell_type": "code",
   "execution_count": 3,
   "id": "95210b92",
   "metadata": {},
   "outputs": [],
   "source": [
    "# func to def labels\n",
    "def labelCreation(qubit:int):\n",
    "    labels = []\n",
    "    for j in range(2**qubit):\n",
    "        b = bin(j).replace(\"0b\",\"\")\n",
    "        if len(b) < qubit:\n",
    "            n = qubit - len(b)\n",
    "            b = n*\"0\"+b\n",
    "        labels.append(b)\n",
    "    return labels"
   ]
  },
  {
   "cell_type": "code",
   "execution_count": 4,
   "id": "cac055f9",
   "metadata": {},
   "outputs": [],
   "source": [
    "labels = labelCreation(qubit)\n",
    "labels;"
   ]
  },
  {
   "cell_type": "code",
   "execution_count": 5,
   "id": "d3dd6173",
   "metadata": {},
   "outputs": [
    {
     "name": "stdout",
     "output_type": "stream",
     "text": [
      "j =  0 -->  0000\n",
      "j =  1 -->  0001\n",
      "j =  2 -->  0010\n",
      "j =  3 -->  0011\n",
      "j =  4 -->  0100\n",
      "j =  5 -->  0101\n",
      "j =  6 -->  0110\n",
      "j =  7 -->  0111\n",
      "j =  8 -->  1000\n",
      "j =  9 -->  1001\n",
      "j =  10 -->  1010\n",
      "j =  11 -->  1011\n",
      "j =  12 -->  1100\n",
      "j =  13 -->  1101\n",
      "j =  14 -->  1110\n",
      "j =  15 -->  1111\n"
     ]
    }
   ],
   "source": [
    "for j in range(len(labels)):\n",
    "    print(\"j = \",j,\"--> \", labels[j]);"
   ]
  },
  {
   "cell_type": "code",
   "execution_count": 6,
   "id": "024584fa",
   "metadata": {},
   "outputs": [],
   "source": [
    "coef1 = np.zeros(2**qubit)\n",
    "coef1[0] = 1/np.sqrt(2);\n",
    "coef1[7] = -1/np.sqrt(2);\n",
    "\n",
    "# for j in range(len(labels)):\n",
    "#     print(\"j = {}, coef = {}, label = {}\".format(j,coef1[j],labels[j]))"
   ]
  },
  {
   "cell_type": "code",
   "execution_count": 7,
   "id": "0bbbbd5e",
   "metadata": {},
   "outputs": [],
   "source": [
    "# func to def state vector and dm \n",
    "def StateCreation(coef,labels):\n",
    "    if np.isclose(np.linalg.norm(coef),1):\n",
    "        ψ = qiskit.quantum_info.Statevector(np.zeros(2**qubit))\n",
    "        for j in range(len(labels)):\n",
    "            ψ += coef[j]*qiskit.quantum_info.Statevector.from_label(labels[j])\n",
    "        ρ = qiskit.quantum_info.DensityMatrix(ψ)\n",
    "    else:\n",
    "        raise TypeError(\"The coefficient vector is not normalized\")\n",
    "    return ψ, ρ"
   ]
  },
  {
   "cell_type": "code",
   "execution_count": 8,
   "id": "9b6b6080",
   "metadata": {},
   "outputs": [],
   "source": [
    "ψ1, ρ1 = StateCreation(coef1, labels)"
   ]
  },
  {
   "cell_type": "code",
   "execution_count": 9,
   "id": "cc2a727c",
   "metadata": {},
   "outputs": [
    {
     "data": {
      "text/latex": [
       "$$\\frac{\\sqrt{2}}{2} |0000\\rangle- \\frac{\\sqrt{2}}{2} |0111\\rangle$$"
      ],
      "text/plain": [
       "<IPython.core.display.Latex object>"
      ]
     },
     "execution_count": 9,
     "metadata": {},
     "output_type": "execute_result"
    }
   ],
   "source": [
    "ψ1.draw('latex')"
   ]
  },
  {
   "cell_type": "code",
   "execution_count": 10,
   "id": "e06de08b",
   "metadata": {},
   "outputs": [
    {
     "data": {
      "text/plain": [
       "array([[ 0.5+0.j,  0. +0.j,  0. +0.j,  0. +0.j,  0. +0.j,  0. +0.j,\n",
       "         0. +0.j, -0.5-0.j,  0. +0.j,  0. +0.j,  0. +0.j,  0. +0.j,\n",
       "         0. +0.j,  0. +0.j,  0. +0.j,  0. +0.j],\n",
       "       [ 0. +0.j,  0. +0.j,  0. +0.j,  0. +0.j,  0. +0.j,  0. +0.j,\n",
       "         0. +0.j,  0. -0.j,  0. +0.j,  0. +0.j,  0. +0.j,  0. +0.j,\n",
       "         0. +0.j,  0. +0.j,  0. +0.j,  0. +0.j],\n",
       "       [ 0. +0.j,  0. +0.j,  0. +0.j,  0. +0.j,  0. +0.j,  0. +0.j,\n",
       "         0. +0.j,  0. -0.j,  0. +0.j,  0. +0.j,  0. +0.j,  0. +0.j,\n",
       "         0. +0.j,  0. +0.j,  0. +0.j,  0. +0.j],\n",
       "       [ 0. +0.j,  0. +0.j,  0. +0.j,  0. +0.j,  0. +0.j,  0. +0.j,\n",
       "         0. +0.j,  0. -0.j,  0. +0.j,  0. +0.j,  0. +0.j,  0. +0.j,\n",
       "         0. +0.j,  0. +0.j,  0. +0.j,  0. +0.j],\n",
       "       [ 0. +0.j,  0. +0.j,  0. +0.j,  0. +0.j,  0. +0.j,  0. +0.j,\n",
       "         0. +0.j,  0. -0.j,  0. +0.j,  0. +0.j,  0. +0.j,  0. +0.j,\n",
       "         0. +0.j,  0. +0.j,  0. +0.j,  0. +0.j],\n",
       "       [ 0. +0.j,  0. +0.j,  0. +0.j,  0. +0.j,  0. +0.j,  0. +0.j,\n",
       "         0. +0.j,  0. -0.j,  0. +0.j,  0. +0.j,  0. +0.j,  0. +0.j,\n",
       "         0. +0.j,  0. +0.j,  0. +0.j,  0. +0.j],\n",
       "       [ 0. +0.j,  0. +0.j,  0. +0.j,  0. +0.j,  0. +0.j,  0. +0.j,\n",
       "         0. +0.j,  0. -0.j,  0. +0.j,  0. +0.j,  0. +0.j,  0. +0.j,\n",
       "         0. +0.j,  0. +0.j,  0. +0.j,  0. +0.j],\n",
       "       [-0.5+0.j,  0. +0.j,  0. +0.j,  0. +0.j,  0. +0.j,  0. +0.j,\n",
       "         0. +0.j,  0.5+0.j,  0. +0.j,  0. +0.j,  0. +0.j,  0. +0.j,\n",
       "         0. +0.j,  0. +0.j,  0. +0.j,  0. +0.j],\n",
       "       [ 0. +0.j,  0. +0.j,  0. +0.j,  0. +0.j,  0. +0.j,  0. +0.j,\n",
       "         0. +0.j,  0. -0.j,  0. +0.j,  0. +0.j,  0. +0.j,  0. +0.j,\n",
       "         0. +0.j,  0. +0.j,  0. +0.j,  0. +0.j],\n",
       "       [ 0. +0.j,  0. +0.j,  0. +0.j,  0. +0.j,  0. +0.j,  0. +0.j,\n",
       "         0. +0.j,  0. -0.j,  0. +0.j,  0. +0.j,  0. +0.j,  0. +0.j,\n",
       "         0. +0.j,  0. +0.j,  0. +0.j,  0. +0.j],\n",
       "       [ 0. +0.j,  0. +0.j,  0. +0.j,  0. +0.j,  0. +0.j,  0. +0.j,\n",
       "         0. +0.j,  0. -0.j,  0. +0.j,  0. +0.j,  0. +0.j,  0. +0.j,\n",
       "         0. +0.j,  0. +0.j,  0. +0.j,  0. +0.j],\n",
       "       [ 0. +0.j,  0. +0.j,  0. +0.j,  0. +0.j,  0. +0.j,  0. +0.j,\n",
       "         0. +0.j,  0. -0.j,  0. +0.j,  0. +0.j,  0. +0.j,  0. +0.j,\n",
       "         0. +0.j,  0. +0.j,  0. +0.j,  0. +0.j],\n",
       "       [ 0. +0.j,  0. +0.j,  0. +0.j,  0. +0.j,  0. +0.j,  0. +0.j,\n",
       "         0. +0.j,  0. -0.j,  0. +0.j,  0. +0.j,  0. +0.j,  0. +0.j,\n",
       "         0. +0.j,  0. +0.j,  0. +0.j,  0. +0.j],\n",
       "       [ 0. +0.j,  0. +0.j,  0. +0.j,  0. +0.j,  0. +0.j,  0. +0.j,\n",
       "         0. +0.j,  0. -0.j,  0. +0.j,  0. +0.j,  0. +0.j,  0. +0.j,\n",
       "         0. +0.j,  0. +0.j,  0. +0.j,  0. +0.j],\n",
       "       [ 0. +0.j,  0. +0.j,  0. +0.j,  0. +0.j,  0. +0.j,  0. +0.j,\n",
       "         0. +0.j,  0. -0.j,  0. +0.j,  0. +0.j,  0. +0.j,  0. +0.j,\n",
       "         0. +0.j,  0. +0.j,  0. +0.j,  0. +0.j],\n",
       "       [ 0. +0.j,  0. +0.j,  0. +0.j,  0. +0.j,  0. +0.j,  0. +0.j,\n",
       "         0. +0.j,  0. -0.j,  0. +0.j,  0. +0.j,  0. +0.j,  0. +0.j,\n",
       "         0. +0.j,  0. +0.j,  0. +0.j,  0. +0.j]])"
      ]
     },
     "execution_count": 10,
     "metadata": {},
     "output_type": "execute_result"
    }
   ],
   "source": [
    "ρ1.data"
   ]
  },
  {
   "cell_type": "code",
   "execution_count": 11,
   "id": "e6e662a7",
   "metadata": {},
   "outputs": [
    {
     "data": {
      "text/latex": [
       "$$\n",
       "\n",
       "\\begin{bmatrix}\n",
       "\\tfrac{1}{2} & 0 & 0 & 0 & \\cdots & 0 & 0 & 0  \\\\\n",
       " 0 & 0 & 0 & 0 & \\cdots & 0 & 0 & 0  \\\\\n",
       " 0 & 0 & 0 & 0 & \\cdots & 0 & 0 & 0  \\\\\n",
       " 0 & 0 & 0 & 0 & \\cdots & 0 & 0 & 0  \\\\\n",
       " \\vdots & \\vdots & \\vdots & \\vdots & \\ddots & \\vdots & \\vdots & \\vdots \\\\\n",
       " 0 & 0 & 0 & 0 & \\cdots & 0 & 0 & 0  \\\\\n",
       " 0 & 0 & 0 & 0 & \\cdots & 0 & 0 & 0  \\\\\n",
       " 0 & 0 & 0 & 0 & \\cdots & 0 & 0 & 0  \\\\\n",
       " \\end{bmatrix}\n",
       "$$"
      ],
      "text/plain": [
       "<IPython.core.display.Latex object>"
      ]
     },
     "execution_count": 11,
     "metadata": {},
     "output_type": "execute_result"
    }
   ],
   "source": [
    "ρ1.draw('latex')"
   ]
  },
  {
   "cell_type": "code",
   "execution_count": 12,
   "id": "2f51aaad",
   "metadata": {},
   "outputs": [],
   "source": [
    "# ???    # [1,2,3]\n",
    "def PartialTrace(ρ,L:list):\n",
    "#     L.sort()\n",
    "    pt0 = []\n",
    "    pt1 = []\n",
    "    pt2 = []\n",
    "    pt3 = []\n",
    "    if np.isin(0,L):\n",
    "        pt0.append(ρ)\n",
    "        \n",
    "    if np.isin(1,L) and len(ρ.dims()) > 1:\n",
    "        for j in range(len(ρ.dims())):\n",
    "            pt1.append(qiskit.quantum_info.partial_trace(ρ,[j]))\n",
    "    \n",
    "    if np.isin(2,L) and len(ρ.dims()) > 2:\n",
    "        for j in range(len(ρ.dims())-1):\n",
    "            pt2.append(qiskit.quantum_info.partial_trace(ρ,[j,j+1]))\n",
    "            if j+2 < len(ρ.dims()):\n",
    "                pt2.append(qiskit.quantum_info.partial_trace(ρ,[j,j+2]))\n",
    "                if j+3 < len(ρ.dims()):\n",
    "                    pt2.append(qiskit.quantum_info.partial_trace(ρ,[j,j+3]))\n",
    "                    \n",
    "    if np.isin(3,L) and len(ρ.dims()) > 3:\n",
    "        for j in range(len(ρ.dims())-2):\n",
    "            pt3.append(qiskit.quantum_info.partial_trace(ρ,[j,j+1,j+2]))\n",
    "            if j+3 < len(ρ.dims()):\n",
    "                pt3.append(qiskit.quantum_info.partial_trace(ρ,[j,j+1,j+3]))\n",
    "                if j+1 < len(ρ.dims())-2:\n",
    "                    pt3.append(qiskit.quantum_info.partial_trace(ρ,[j,j+2,j+3]))\n",
    "                    \n",
    "    partial_trace = {\n",
    "        \"partial_trace_0\" : pt0,\n",
    "        \"partial_trace_1\" : pt1,\n",
    "        \"partial_trace_2\" : pt2,\n",
    "        \"partial_trace_3\" : pt3\n",
    "    }\n",
    "                        \n",
    "    return partial_trace     "
   ]
  },
  {
   "cell_type": "code",
   "execution_count": 13,
   "id": "98b088c3",
   "metadata": {},
   "outputs": [
    {
     "data": {
      "text/plain": [
       "4"
      ]
     },
     "execution_count": 13,
     "metadata": {},
     "output_type": "execute_result"
    }
   ],
   "source": [
    "ρ1_pt = PartialTrace(ρ1, [1])\n",
    "len(ρ1_pt['partial_trace_1'])"
   ]
  },
  {
   "cell_type": "code",
   "execution_count": 14,
   "id": "9fe2fad5",
   "metadata": {},
   "outputs": [],
   "source": [
    "# Function to compute EOF for a three-partite system\n",
    "def EOF_3(ρ_pt): \n",
    "    eof_1 = []\n",
    "    eof_2 = []\n",
    "    entropy_1 = []\n",
    "    entropy_2 = []\n",
    "    if len(ρ_pt['partial_trace_1']) == 0:\n",
    "        pass\n",
    "    else:\n",
    "        for j in range(len(ρ_pt['partial_trace_1'])):\n",
    "            eof_1.append(qiskit.quantum_info.entanglement_of_formation(\n",
    "                ρ_pt['partial_trace_1'][j]))\n",
    "            entropy_1.append(qiskit.quantum_info.entropy(ρ_pt['partial_trace_1'][j]))\n",
    "    \n",
    "    if len(ρ_pt['partial_trace_2']) == 0:\n",
    "        pass \n",
    "    else:\n",
    "        for j in range(len(ρ_pt['partial_trace_2'])):\n",
    "            eof_2.append(qiskit.quantum_info.entanglement_of_formation(\n",
    "                ρ_pt['partial_trace_1'][j]))\n",
    "            entropy_2.append(qiskit.quantum_info.entropy(ρ_pt['partial_trace_2'][j]))\n",
    "            \n",
    "            \n",
    "    eof_1 = np.array(eof_1)\n",
    "    eof_2 = np.array(eof_2)\n",
    "    entropy_1 = np.array(entropy_1)\n",
    "    entropy_2 = np.array(entropy_2)\n",
    "    EOF = np.sum(eof_1+eof_2+entropy_1+entropy_2)/6\n",
    "    return EOF"
   ]
  },
  {
   "cell_type": "code",
   "execution_count": null,
   "id": "258db38f",
   "metadata": {},
   "outputs": [],
   "source": []
  },
  {
   "cell_type": "code",
   "execution_count": 16,
   "id": "b8fc0595",
   "metadata": {},
   "outputs": [
    {
     "name": "stdout",
     "output_type": "stream",
     "text": [
      "0\n"
     ]
    }
   ],
   "source": [
    "V = np.zeros((8,1))\n",
    "D = []\n",
    "start = 0;\n",
    "stop = 1.1;\n",
    "step = 0.3;\n",
    "\n",
    "for v0 in np.arange(start, stop, step):\n",
    "    V[0,0] = v0\n",
    "    for v1 in np.arange(start, stop, step):\n",
    "        V[1,0] = v1\n",
    "        for v2 in np.arange(start, stop, step):\n",
    "            V[2,0] = v2\n",
    "            for v3 in np.arange(start, stop, step):\n",
    "                V[3,0] = v3\n",
    "                for v4 in np.arange(start, stop, step):\n",
    "                    V[4,0] = v4\n",
    "                    for v5 in np.arange(start, stop, step):\n",
    "                        V[5,0] = v5\n",
    "                        for v6 in np.arange(start, stop, step):\n",
    "                            V[6,0] = v6\n",
    "                            for v7 in np.arange(start, stop, step):\n",
    "                                V[7,0] = v7\n",
    "                                ρ = qiskit.quantum_info.DensityMatrix(np.outer(V,V))\n",
    "                                ρ_2 = qiskit.quantum_info.DensityMatrix(np.matmul(ρ.data,ρ.data))\n",
    "                                if ρ.is_valid() and ρ_2.is_valid():\n",
    "                                    D.append(ρ)\n",
    "                                    \n",
    "print(len(D))"
   ]
  },
  {
   "cell_type": "code",
   "execution_count": null,
   "id": "73acf76c",
   "metadata": {},
   "outputs": [],
   "source": [
    "DD = [x.data for x in D]\n",
    "np.save(\"Density_Matrix.npy\", DD, allow_pickle=True)\n",
    "# np.save(\"Density_Matrix.npy\", np.array(DD, dtype=object), allow_pickle=True)\n",
    "# D_read = np.load(\"Density_Matrix.npy\", allow_pickle= True)"
   ]
  },
  {
   "cell_type": "code",
   "execution_count": null,
   "id": "cbe04135",
   "metadata": {},
   "outputs": [],
   "source": [
    "start = 0.0;\n",
    "stop = 1.1;\n",
    "step = 0.1;\n",
    "\n",
    "S = []\n",
    "for i in range(len(ρ1_pt['partial_trace_1'])):\n",
    "    for j in range(len(D)):\n",
    "        for k in range(len(D)):\n",
    "            for p1 in np.arange(start, stop, step):\n",
    "                for p2 in np.arange(start, stop, step):\n",
    "                    if p1 + p2 == 1 and p1*D[j] + p2*D[k] == ρ1_pt['partial_trace_1'][i]:\n",
    "                        S.append([i,ρ1_pt[i],D[j],D[k],p1,p2])"
   ]
  },
  {
   "cell_type": "code",
   "execution_count": null,
   "id": "ba8e8d2e",
   "metadata": {},
   "outputs": [],
   "source": []
  },
  {
   "cell_type": "code",
   "execution_count": null,
   "id": "5166ac10",
   "metadata": {},
   "outputs": [],
   "source": []
  },
  {
   "cell_type": "code",
   "execution_count": 20,
   "id": "4330f2a7",
   "metadata": {},
   "outputs": [
    {
     "ename": "KeyError",
     "evalue": "0",
     "output_type": "error",
     "traceback": [
      "\u001b[0;31m---------------------------------------------------------------------------\u001b[0m",
      "\u001b[0;31mKeyError\u001b[0m                                  Traceback (most recent call last)",
      "\u001b[0;32m/tmp/ipykernel_7953/1282487582.py\u001b[0m in \u001b[0;36m<module>\u001b[0;34m\u001b[0m\n\u001b[1;32m     10\u001b[0m                 \u001b[0;32mfor\u001b[0m \u001b[0mp2\u001b[0m \u001b[0;32min\u001b[0m \u001b[0mnp\u001b[0m\u001b[0;34m.\u001b[0m\u001b[0marange\u001b[0m\u001b[0;34m(\u001b[0m\u001b[0mstart\u001b[0m\u001b[0;34m,\u001b[0m \u001b[0mstop\u001b[0m\u001b[0;34m,\u001b[0m \u001b[0mstep\u001b[0m\u001b[0;34m)\u001b[0m\u001b[0;34m:\u001b[0m\u001b[0;34m\u001b[0m\u001b[0;34m\u001b[0m\u001b[0m\n\u001b[1;32m     11\u001b[0m                     \u001b[0;32mif\u001b[0m \u001b[0mp1\u001b[0m \u001b[0;34m+\u001b[0m \u001b[0mp2\u001b[0m \u001b[0;34m==\u001b[0m \u001b[0;36m1\u001b[0m \u001b[0;32mand\u001b[0m \u001b[0mp1\u001b[0m\u001b[0;34m*\u001b[0m\u001b[0mD\u001b[0m\u001b[0;34m[\u001b[0m\u001b[0mj\u001b[0m\u001b[0;34m]\u001b[0m \u001b[0;34m+\u001b[0m \u001b[0mp2\u001b[0m\u001b[0;34m*\u001b[0m\u001b[0mD\u001b[0m\u001b[0;34m[\u001b[0m\u001b[0mk\u001b[0m\u001b[0;34m]\u001b[0m \u001b[0;34m==\u001b[0m \u001b[0mρ1_pt\u001b[0m\u001b[0;34m[\u001b[0m\u001b[0;34m'partial_trace_1'\u001b[0m\u001b[0;34m]\u001b[0m\u001b[0;34m[\u001b[0m\u001b[0mi\u001b[0m\u001b[0;34m]\u001b[0m\u001b[0;34m:\u001b[0m\u001b[0;34m\u001b[0m\u001b[0;34m\u001b[0m\u001b[0m\n\u001b[0;32m---> 12\u001b[0;31m                         \u001b[0mS\u001b[0m\u001b[0;34m.\u001b[0m\u001b[0mappend\u001b[0m\u001b[0;34m(\u001b[0m\u001b[0;34m[\u001b[0m\u001b[0mi\u001b[0m\u001b[0;34m,\u001b[0m\u001b[0mρ1_pt\u001b[0m\u001b[0;34m[\u001b[0m\u001b[0mi\u001b[0m\u001b[0;34m]\u001b[0m\u001b[0;34m,\u001b[0m\u001b[0mD\u001b[0m\u001b[0;34m[\u001b[0m\u001b[0mj\u001b[0m\u001b[0;34m]\u001b[0m\u001b[0;34m,\u001b[0m\u001b[0mD\u001b[0m\u001b[0;34m[\u001b[0m\u001b[0mk\u001b[0m\u001b[0;34m]\u001b[0m\u001b[0;34m,\u001b[0m\u001b[0mp1\u001b[0m\u001b[0;34m,\u001b[0m\u001b[0mp2\u001b[0m\u001b[0;34m]\u001b[0m\u001b[0;34m)\u001b[0m\u001b[0;34m\u001b[0m\u001b[0;34m\u001b[0m\u001b[0m\n\u001b[0m",
      "\u001b[0;31mKeyError\u001b[0m: 0"
     ]
    }
   ],
   "source": [
    "start = 0.0;\n",
    "stop = 1.1;\n",
    "step = 0.1;\n",
    "\n",
    "S = []\n",
    "for i in range(len(ρ1_pt['partial_trace_1'])):\n",
    "    for j in range(len(D)):\n",
    "        for k in range(len(D)):\n",
    "            for p1 in np.arange(start, stop, step):\n",
    "                for p2 in np.arange(start, stop, step):\n",
    "                    if p1 + p2 == 1 and p1*D[j] + p2*D[k] == ρ1_pt['partial_trace_1'][i]:\n",
    "                        S.append([i,ρ1_pt[i],D[j],D[k],p1,p2])"
   ]
  },
  {
   "cell_type": "code",
   "execution_count": 17,
   "id": "a03c716f",
   "metadata": {},
   "outputs": [
    {
     "data": {
      "text/plain": [
       "[]"
      ]
     },
     "execution_count": 17,
     "metadata": {},
     "output_type": "execute_result"
    }
   ],
   "source": [
    "np.is"
   ]
  },
  {
   "cell_type": "code",
   "execution_count": 2,
   "id": "47cca39b",
   "metadata": {},
   "outputs": [
    {
     "data": {
      "text/plain": [
       "0.14285714285714285"
      ]
     },
     "execution_count": 2,
     "metadata": {},
     "output_type": "execute_result"
    }
   ],
   "source": [
    "1/7"
   ]
  },
  {
   "cell_type": "code",
   "execution_count": null,
   "id": "ea6bded5",
   "metadata": {},
   "outputs": [],
   "source": []
  }
 ],
 "metadata": {
  "kernelspec": {
   "display_name": "Python 3 (ipykernel)",
   "language": "python",
   "name": "python3"
  },
  "language_info": {
   "codemirror_mode": {
    "name": "ipython",
    "version": 3
   },
   "file_extension": ".py",
   "mimetype": "text/x-python",
   "name": "python",
   "nbconvert_exporter": "python",
   "pygments_lexer": "ipython3",
   "version": "3.9.13"
  }
 },
 "nbformat": 4,
 "nbformat_minor": 5
}
