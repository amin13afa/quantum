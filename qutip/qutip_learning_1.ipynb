{
 "cells": [
  {
   "cell_type": "markdown",
   "id": "116ce4c0",
   "metadata": {},
   "source": [
    "# Import libraries "
   ]
  },
  {
   "cell_type": "code",
   "execution_count": 1,
   "id": "89966abf",
   "metadata": {},
   "outputs": [],
   "source": [
    "import numpy as np \n",
    "import matplotlib.pyplot as plt \n",
    "import qutip as qt"
   ]
  },
  {
   "cell_type": "code",
   "execution_count": 4,
   "id": "3c069934",
   "metadata": {},
   "outputs": [
    {
     "data": {
      "text/latex": [
       "Quantum object: dims = [[3], [3]], shape = (3, 3), type = oper, isherm = False $ \\\\ \\left(\\begin{matrix}0.0 & 1.0 & 0.0\\\\0.0 & 0.0 & 1.0\\\\0.0 & 0.0 & 0.0\\\\\\end{matrix}\\right)$"
      ],
      "text/plain": [
       "Quantum object: dims = [[3], [3]], shape = (3, 3), type = oper, isherm = False\n",
       "Qobj data =\n",
       "[[0. 1. 0.]\n",
       " [0. 0. 1.]\n",
       " [0. 0. 0.]]"
      ]
     },
     "execution_count": 4,
     "metadata": {},
     "output_type": "execute_result"
    }
   ],
   "source": [
    "z = qt.Qobj([[0,1,0],[0,0,1],[0,0,0]])\n",
    "z"
   ]
  },
  {
   "cell_type": "markdown",
   "id": "b5dd65df",
   "metadata": {},
   "source": [
    "# State Vectors "
   ]
  },
  {
   "cell_type": "code",
   "execution_count": 2,
   "id": "fe2f927f",
   "metadata": {},
   "outputs": [
    {
     "data": {
      "text/latex": [
       "Quantum object: dims = [[4], [1]], shape = (4, 1), type = ket $ \\\\ \\left(\\begin{matrix}0.0\\\\1.0\\\\0.0\\\\0.0\\\\\\end{matrix}\\right)$"
      ],
      "text/plain": [
       "Quantum object: dims = [[4], [1]], shape = (4, 1), type = ket\n",
       "Qobj data =\n",
       "[[0.]\n",
       " [1.]\n",
       " [0.]\n",
       " [0.]]"
      ]
     },
     "execution_count": 2,
     "metadata": {},
     "output_type": "execute_result"
    }
   ],
   "source": [
    "N = 4;\n",
    "n = 1;\n",
    "qt.basis(N,n)"
   ]
  },
  {
   "cell_type": "code",
   "execution_count": 4,
   "id": "f8538ad0",
   "metadata": {},
   "outputs": [
    {
     "data": {
      "text/latex": [
       "Quantum object: dims = [[4], [1]], shape = (4, 1), type = ket $ \\\\ \\left(\\begin{matrix}0.0\\\\0.0\\\\1.0\\\\0.0\\\\\\end{matrix}\\right)$"
      ],
      "text/plain": [
       "Quantum object: dims = [[4], [1]], shape = (4, 1), type = ket\n",
       "Qobj data =\n",
       "[[0.]\n",
       " [0.]\n",
       " [1.]\n",
       " [0.]]"
      ]
     },
     "execution_count": 4,
     "metadata": {},
     "output_type": "execute_result"
    }
   ],
   "source": [
    "# Fock states \n",
    "qt.fock(N,2)"
   ]
  },
  {
   "cell_type": "code",
   "execution_count": 5,
   "id": "902fb6f0",
   "metadata": {},
   "outputs": [
    {
     "data": {
      "text/latex": [
       "Quantum object: dims = [[4], [1]], shape = (4, 1), type = ket $ \\\\ \\left(\\begin{matrix}0.882\\\\0.441\\\\0.156\\\\0.047\\\\\\end{matrix}\\right)$"
      ],
      "text/plain": [
       "Quantum object: dims = [[4], [1]], shape = (4, 1), type = ket\n",
       "Qobj data =\n",
       "[[0.88249471]\n",
       " [0.44128304]\n",
       " [0.1556681 ]\n",
       " [0.04732666]]"
      ]
     },
     "execution_count": 5,
     "metadata": {},
     "output_type": "execute_result"
    }
   ],
   "source": [
    "# Coherent state \n",
    "# what is coherent states \n",
    "qt.coherent(N,alpha=0.5)"
   ]
  },
  {
   "cell_type": "markdown",
   "id": "66a1ebb0",
   "metadata": {},
   "source": [
    "# Density matrices"
   ]
  },
  {
   "cell_type": "code",
   "execution_count": 6,
   "id": "5f8346f3",
   "metadata": {},
   "outputs": [
    {
     "data": {
      "text/latex": [
       "Quantum object: dims = [[4], [4]], shape = (4, 4), type = oper, isherm = True $ \\\\ \\left(\\begin{matrix}0.0 & 0.0 & 0.0 & 0.0\\\\0.0 & 1.0 & 0.0 & 0.0\\\\0.0 & 0.0 & 0.0 & 0.0\\\\0.0 & 0.0 & 0.0 & 0.0\\\\\\end{matrix}\\right)$"
      ],
      "text/plain": [
       "Quantum object: dims = [[4], [4]], shape = (4, 4), type = oper, isherm = True\n",
       "Qobj data =\n",
       "[[0. 0. 0. 0.]\n",
       " [0. 1. 0. 0.]\n",
       " [0. 0. 0. 0.]\n",
       " [0. 0. 0. 0.]]"
      ]
     },
     "execution_count": 6,
     "metadata": {},
     "output_type": "execute_result"
    }
   ],
   "source": [
    "# Fock state \n",
    "qt.fock_dm(N,1)"
   ]
  },
  {
   "cell_type": "code",
   "execution_count": 8,
   "id": "cd3a6e23",
   "metadata": {},
   "outputs": [
    {
     "data": {
      "text/latex": [
       "Quantum object: dims = [[4], [4]], shape = (4, 4), type = oper, isherm = True $ \\\\ \\left(\\begin{matrix}0.779 & 0.389 & 0.137 & 0.042\\\\0.389 & 0.195 & 0.069 & 0.021\\\\0.137 & 0.069 & 0.024 & 0.007\\\\0.042 & 0.021 & 0.007 & 0.002\\\\\\end{matrix}\\right)$"
      ],
      "text/plain": [
       "Quantum object: dims = [[4], [4]], shape = (4, 4), type = oper, isherm = True\n",
       "Qobj data =\n",
       "[[0.77879691 0.38942994 0.13737627 0.04176553]\n",
       " [0.38942994 0.19473072 0.06869369 0.02088445]\n",
       " [0.13737627 0.06869369 0.02423256 0.00736725]\n",
       " [0.04176553 0.02088445 0.00736725 0.00223981]]"
      ]
     },
     "execution_count": 8,
     "metadata": {},
     "output_type": "execute_result"
    }
   ],
   "source": [
    "# coherent \n",
    "qt.coherent_dm(N,alpha=0.5)"
   ]
  },
  {
   "cell_type": "markdown",
   "id": "4736fcaa",
   "metadata": {},
   "source": [
    "# Operators"
   ]
  },
  {
   "cell_type": "markdown",
   "id": "22ffc64e",
   "metadata": {},
   "source": [
    "### Pauli operators "
   ]
  },
  {
   "cell_type": "code",
   "execution_count": 9,
   "id": "f5889cbd",
   "metadata": {},
   "outputs": [
    {
     "data": {
      "text/latex": [
       "Quantum object: dims = [[2], [2]], shape = (2, 2), type = oper, isherm = True $ \\\\ \\left(\\begin{matrix}0.0 & 1.0\\\\1.0 & 0.0\\\\\\end{matrix}\\right)$"
      ],
      "text/plain": [
       "Quantum object: dims = [[2], [2]], shape = (2, 2), type = oper, isherm = True\n",
       "Qobj data =\n",
       "[[0. 1.]\n",
       " [1. 0.]]"
      ]
     },
     "execution_count": 9,
     "metadata": {},
     "output_type": "execute_result"
    }
   ],
   "source": [
    "# Pauli X\n",
    "qt.sigmax()"
   ]
  },
  {
   "cell_type": "code",
   "execution_count": 10,
   "id": "92d2a40b",
   "metadata": {},
   "outputs": [
    {
     "data": {
      "text/latex": [
       "Quantum object: dims = [[2], [2]], shape = (2, 2), type = oper, isherm = True $ \\\\ \\left(\\begin{matrix}0.0 & -1.0j\\\\1.0j & 0.0\\\\\\end{matrix}\\right)$"
      ],
      "text/plain": [
       "Quantum object: dims = [[2], [2]], shape = (2, 2), type = oper, isherm = True\n",
       "Qobj data =\n",
       "[[0.+0.j 0.-1.j]\n",
       " [0.+1.j 0.+0.j]]"
      ]
     },
     "execution_count": 10,
     "metadata": {},
     "output_type": "execute_result"
    }
   ],
   "source": [
    "# Pauli y \n",
    "qt.sigmay()"
   ]
  },
  {
   "cell_type": "code",
   "execution_count": 11,
   "id": "d4501a74",
   "metadata": {},
   "outputs": [
    {
     "data": {
      "text/latex": [
       "Quantum object: dims = [[2], [2]], shape = (2, 2), type = oper, isherm = True $ \\\\ \\left(\\begin{matrix}1.0 & 0.0\\\\0.0 & -1.0\\\\\\end{matrix}\\right)$"
      ],
      "text/plain": [
       "Quantum object: dims = [[2], [2]], shape = (2, 2), type = oper, isherm = True\n",
       "Qobj data =\n",
       "[[ 1.  0.]\n",
       " [ 0. -1.]]"
      ]
     },
     "execution_count": 11,
     "metadata": {},
     "output_type": "execute_result"
    }
   ],
   "source": [
    "# Pauli z\n",
    "qt.sigmaz()"
   ]
  },
  {
   "cell_type": "markdown",
   "id": "3b867352",
   "metadata": {},
   "source": [
    "### Harmonic oscillator operators"
   ]
  },
  {
   "cell_type": "code",
   "execution_count": 13,
   "id": "381570e7",
   "metadata": {},
   "outputs": [
    {
     "data": {
      "text/latex": [
       "Quantum object: dims = [[3], [3]], shape = (3, 3), type = oper, isherm = False $ \\\\ \\left(\\begin{matrix}0.0 & 0.0 & 0.0\\\\1.0 & 0.0 & 0.0\\\\0.0 & 1.414 & 0.0\\\\\\end{matrix}\\right)$"
      ],
      "text/plain": [
       "Quantum object: dims = [[3], [3]], shape = (3, 3), type = oper, isherm = False\n",
       "Qobj data =\n",
       "[[0.         0.         0.        ]\n",
       " [1.         0.         0.        ]\n",
       " [0.         1.41421356 0.        ]]"
      ]
     },
     "execution_count": 13,
     "metadata": {},
     "output_type": "execute_result"
    }
   ],
   "source": [
    "# creation \n",
    "qt.create(N=3)"
   ]
  },
  {
   "cell_type": "code",
   "execution_count": 14,
   "id": "49e0ba5f",
   "metadata": {},
   "outputs": [
    {
     "data": {
      "text/latex": [
       "Quantum object: dims = [[3], [3]], shape = (3, 3), type = oper, isherm = False $ \\\\ \\left(\\begin{matrix}0.0 & 1.0 & 0.0\\\\0.0 & 0.0 & 1.414\\\\0.0 & 0.0 & 0.0\\\\\\end{matrix}\\right)$"
      ],
      "text/plain": [
       "Quantum object: dims = [[3], [3]], shape = (3, 3), type = oper, isherm = False\n",
       "Qobj data =\n",
       "[[0.         1.         0.        ]\n",
       " [0.         0.         1.41421356]\n",
       " [0.         0.         0.        ]]"
      ]
     },
     "execution_count": 14,
     "metadata": {},
     "output_type": "execute_result"
    }
   ],
   "source": [
    "qt.destroy(N=3)"
   ]
  },
  {
   "cell_type": "code",
   "execution_count": 24,
   "id": "f7d538b0",
   "metadata": {},
   "outputs": [
    {
     "data": {
      "text/latex": [
       "Quantum object: dims = [[9], [9]], shape = (9, 9), type = oper, isherm = True $ \\\\ \\left(\\begin{matrix}0.0 & 1.0 & 0.0 & 0.0 & 0.0 & 0.0 & 0.0 & 0.0 & 0.0\\\\1.0 & 0.0 & 1.414 & 0.0 & 0.0 & 0.0 & 0.0 & 0.0 & 0.0\\\\0.0 & 1.414 & 0.0 & 1.732 & 0.0 & 0.0 & 0.0 & 0.0 & 0.0\\\\0.0 & 0.0 & 1.732 & 0.0 & 2.0 & 0.0 & 0.0 & 0.0 & 0.0\\\\0.0 & 0.0 & 0.0 & 2.0 & 0.0 & 2.236 & 0.0 & 0.0 & 0.0\\\\0.0 & 0.0 & 0.0 & 0.0 & 2.236 & 0.0 & 2.449 & 0.0 & 0.0\\\\0.0 & 0.0 & 0.0 & 0.0 & 0.0 & 2.449 & 0.0 & 2.646 & 0.0\\\\0.0 & 0.0 & 0.0 & 0.0 & 0.0 & 0.0 & 2.646 & 0.0 & 2.828\\\\0.0 & 0.0 & 0.0 & 0.0 & 0.0 & 0.0 & 0.0 & 2.828 & 0.0\\\\\\end{matrix}\\right)$"
      ],
      "text/plain": [
       "Quantum object: dims = [[9], [9]], shape = (9, 9), type = oper, isherm = True\n",
       "Qobj data =\n",
       "[[0.         1.         0.         0.         0.         0.\n",
       "  0.         0.         0.        ]\n",
       " [1.         0.         1.41421356 0.         0.         0.\n",
       "  0.         0.         0.        ]\n",
       " [0.         1.41421356 0.         1.73205081 0.         0.\n",
       "  0.         0.         0.        ]\n",
       " [0.         0.         1.73205081 0.         2.         0.\n",
       "  0.         0.         0.        ]\n",
       " [0.         0.         0.         2.         0.         2.23606798\n",
       "  0.         0.         0.        ]\n",
       " [0.         0.         0.         0.         2.23606798 0.\n",
       "  2.44948974 0.         0.        ]\n",
       " [0.         0.         0.         0.         0.         2.44948974\n",
       "  0.         2.64575131 0.        ]\n",
       " [0.         0.         0.         0.         0.         0.\n",
       "  2.64575131 0.         2.82842712]\n",
       " [0.         0.         0.         0.         0.         0.\n",
       "  0.         2.82842712 0.        ]]"
      ]
     },
     "execution_count": 24,
     "metadata": {},
     "output_type": "execute_result"
    }
   ],
   "source": [
    "N = 9\n",
    "a = qt.destroy(N)\n",
    "x = a+a.dag()\n",
    "x"
   ]
  },
  {
   "cell_type": "code",
   "execution_count": 25,
   "id": "e0ab0de9",
   "metadata": {},
   "outputs": [
    {
     "data": {
      "text/latex": [
       "Quantum object: dims = [[9], [9]], shape = (9, 9), type = oper, isherm = True $ \\\\ \\left(\\begin{matrix}1.0 & 0.0 & 0.0 & 0.0 & 0.0 & 0.0 & 0.0 & 0.0 & 0.0\\\\0.0 & 1.0 & 0.0 & 0.0 & 0.0 & 0.0 & 0.0 & 0.0 & 0.0\\\\0.0 & 0.0 & 1.000 & 0.0 & 0.0 & 0.0 & 0.0 & 0.0 & 0.0\\\\0.0 & 0.0 & 0.0 & 1.0 & 0.0 & 0.0 & 0.0 & 0.0 & 0.0\\\\0.0 & 0.0 & 0.0 & 0.0 & 1.0 & 0.0 & 0.0 & 0.0 & 0.0\\\\0.0 & 0.0 & 0.0 & 0.0 & 0.0 & 1.000 & 0.0 & 0.0 & 0.0\\\\0.0 & 0.0 & 0.0 & 0.0 & 0.0 & 0.0 & 1.0 & 0.0 & 0.0\\\\0.0 & 0.0 & 0.0 & 0.0 & 0.0 & 0.0 & 0.0 & 1.0 & 0.0\\\\0.0 & 0.0 & 0.0 & 0.0 & 0.0 & 0.0 & 0.0 & 0.0 & -8.0\\\\\\end{matrix}\\right)$"
      ],
      "text/plain": [
       "Quantum object: dims = [[9], [9]], shape = (9, 9), type = oper, isherm = True\n",
       "Qobj data =\n",
       "[[ 1.  0.  0.  0.  0.  0.  0.  0.  0.]\n",
       " [ 0.  1.  0.  0.  0.  0.  0.  0.  0.]\n",
       " [ 0.  0.  1.  0.  0.  0.  0.  0.  0.]\n",
       " [ 0.  0.  0.  1.  0.  0.  0.  0.  0.]\n",
       " [ 0.  0.  0.  0.  1.  0.  0.  0.  0.]\n",
       " [ 0.  0.  0.  0.  0.  1.  0.  0.  0.]\n",
       " [ 0.  0.  0.  0.  0.  0.  1.  0.  0.]\n",
       " [ 0.  0.  0.  0.  0.  0.  0.  1.  0.]\n",
       " [ 0.  0.  0.  0.  0.  0.  0.  0. -8.]]"
      ]
     },
     "execution_count": 25,
     "metadata": {},
     "output_type": "execute_result"
    }
   ],
   "source": [
    "# commutator \n",
    "# why is it not identity? !! ---> trucation \n",
    "\n",
    "qt.commutator(a,a.dag())"
   ]
  },
  {
   "cell_type": "code",
   "execution_count": 26,
   "id": "099a02e1",
   "metadata": {},
   "outputs": [
    {
     "data": {
      "text/latex": [
       "Quantum object: dims = [[9], [9]], shape = (9, 9), type = oper, isherm = False $ \\\\ \\left(\\begin{matrix}1.000j & 0.0 & 0.0 & 0.0 & 0.0 & 0.0 & 0.0 & 0.0 & 0.0\\\\0.0 & 1.0j & 0.0 & 0.0 & 0.0 & 0.0 & 0.0 & 0.0 & 0.0\\\\0.0 & 0.0 & 1.000j & 0.0 & 0.0 & 0.0 & 0.0 & 0.0 & 0.0\\\\0.0 & 0.0 & 0.0 & 1.000j & 0.0 & 0.0 & 0.0 & 0.0 & 0.0\\\\0.0 & 0.0 & 0.0 & 0.0 & 1.0j & 0.0 & 0.0 & 0.0 & 0.0\\\\0.0 & 0.0 & 0.0 & 0.0 & 0.0 & 1.000j & 0.0 & 0.0 & 0.0\\\\0.0 & 0.0 & 0.0 & 0.0 & 0.0 & 0.0 & 1.0j & 0.0 & 0.0\\\\0.0 & 0.0 & 0.0 & 0.0 & 0.0 & 0.0 & 0.0 & 1.0j & 0.0\\\\0.0 & 0.0 & 0.0 & 0.0 & 0.0 & 0.0 & 0.0 & 0.0 & -8.0j\\\\\\end{matrix}\\right)$"
      ],
      "text/plain": [
       "Quantum object: dims = [[9], [9]], shape = (9, 9), type = oper, isherm = False\n",
       "Qobj data =\n",
       "[[0.+1.j 0.+0.j 0.+0.j 0.+0.j 0.+0.j 0.+0.j 0.+0.j 0.+0.j 0.+0.j]\n",
       " [0.+0.j 0.+1.j 0.+0.j 0.+0.j 0.+0.j 0.+0.j 0.+0.j 0.+0.j 0.+0.j]\n",
       " [0.+0.j 0.+0.j 0.+1.j 0.+0.j 0.+0.j 0.+0.j 0.+0.j 0.+0.j 0.+0.j]\n",
       " [0.+0.j 0.+0.j 0.+0.j 0.+1.j 0.+0.j 0.+0.j 0.+0.j 0.+0.j 0.+0.j]\n",
       " [0.+0.j 0.+0.j 0.+0.j 0.+0.j 0.+1.j 0.+0.j 0.+0.j 0.+0.j 0.+0.j]\n",
       " [0.+0.j 0.+0.j 0.+0.j 0.+0.j 0.+0.j 0.+1.j 0.+0.j 0.+0.j 0.+0.j]\n",
       " [0.+0.j 0.+0.j 0.+0.j 0.+0.j 0.+0.j 0.+0.j 0.+1.j 0.+0.j 0.+0.j]\n",
       " [0.+0.j 0.+0.j 0.+0.j 0.+0.j 0.+0.j 0.+0.j 0.+0.j 0.+1.j 0.+0.j]\n",
       " [0.+0.j 0.+0.j 0.+0.j 0.+0.j 0.+0.j 0.+0.j 0.+0.j 0.+0.j 0.-8.j]]"
      ]
     },
     "execution_count": 26,
     "metadata": {},
     "output_type": "execute_result"
    }
   ],
   "source": [
    "X = (a+a.dag())/(np.sqrt(2))\n",
    "P = -1j*((a-a.dag())/(np.sqrt(2)))\n",
    "qt.commutator(X,P)"
   ]
  },
  {
   "cell_type": "code",
   "execution_count": 29,
   "id": "ed1ec55c",
   "metadata": {},
   "outputs": [
    {
     "data": {
      "text/plain": [
       "(True, True, False)"
      ]
     },
     "execution_count": 29,
     "metadata": {},
     "output_type": "execute_result"
    }
   ],
   "source": [
    "X.isherm , P.isherm , qt.commutator(X,P).isherm"
   ]
  },
  {
   "cell_type": "code",
   "execution_count": 30,
   "id": "529e5feb",
   "metadata": {},
   "outputs": [
    {
     "data": {
      "text/latex": [
       "Quantum object: dims = [[2], [2]], shape = (2, 2), type = oper, isherm = True $ \\\\ \\left(\\begin{matrix}1.0 & 0.0\\\\0.0 & 1.0\\\\\\end{matrix}\\right)$"
      ],
      "text/plain": [
       "Quantum object: dims = [[2], [2]], shape = (2, 2), type = oper, isherm = True\n",
       "Qobj data =\n",
       "[[1. 0.]\n",
       " [0. 1.]]"
      ]
     },
     "execution_count": 30,
     "metadata": {},
     "output_type": "execute_result"
    }
   ],
   "source": [
    "qt.qeye(2)"
   ]
  },
  {
   "cell_type": "code",
   "execution_count": 33,
   "id": "7e5484fc",
   "metadata": {},
   "outputs": [
    {
     "data": {
      "text/plain": [
       "True"
      ]
     },
     "execution_count": 33,
     "metadata": {},
     "output_type": "execute_result"
    }
   ],
   "source": [
    "qt.sigmax()**2 == qt.sigmay()**2 == qt.sigmaz()**2 == qt.qeye(2)"
   ]
  },
  {
   "cell_type": "markdown",
   "id": "ee8df498",
   "metadata": {},
   "source": [
    "# Composite systems "
   ]
  },
  {
   "cell_type": "code",
   "execution_count": 34,
   "id": "aba24d23",
   "metadata": {},
   "outputs": [
    {
     "data": {
      "text/latex": [
       "Quantum object: dims = [[2, 2], [2, 2]], shape = (4, 4), type = oper, isherm = True $ \\\\ \\left(\\begin{matrix}0.0 & 0.0 & 0.0 & 1.0\\\\0.0 & 0.0 & 1.0 & 0.0\\\\0.0 & 1.0 & 0.0 & 0.0\\\\1.0 & 0.0 & 0.0 & 0.0\\\\\\end{matrix}\\right)$"
      ],
      "text/plain": [
       "Quantum object: dims = [[2, 2], [2, 2]], shape = (4, 4), type = oper, isherm = True\n",
       "Qobj data =\n",
       "[[0. 0. 0. 1.]\n",
       " [0. 0. 1. 0.]\n",
       " [0. 1. 0. 0.]\n",
       " [1. 0. 0. 0.]]"
      ]
     },
     "execution_count": 34,
     "metadata": {},
     "output_type": "execute_result"
    }
   ],
   "source": [
    "qt.tensor(qt.sigmax(), qt.sigmax())"
   ]
  },
  {
   "cell_type": "code",
   "execution_count": 43,
   "id": "51891004",
   "metadata": {},
   "outputs": [],
   "source": [
    "N = 2;\n",
    "ψ1 = qt.tensor(qt.basis(N,1), qt.basis(N,0))\n",
    "ψ2 = qt.tensor(qt.basis(N,0), qt.basis(N,1))"
   ]
  },
  {
   "cell_type": "code",
   "execution_count": 44,
   "id": "941924c9",
   "metadata": {},
   "outputs": [
    {
     "data": {
      "text/latex": [
       "Quantum object: dims = [[2, 2], [1, 1]], shape = (4, 1), type = ket $ \\\\ \\left(\\begin{matrix}0.0\\\\0.0\\\\1.0\\\\0.0\\\\\\end{matrix}\\right)$"
      ],
      "text/plain": [
       "Quantum object: dims = [[2, 2], [1, 1]], shape = (4, 1), type = ket\n",
       "Qobj data =\n",
       "[[0.]\n",
       " [0.]\n",
       " [1.]\n",
       " [0.]]"
      ]
     },
     "execution_count": 44,
     "metadata": {},
     "output_type": "execute_result"
    }
   ],
   "source": [
    "ψ1"
   ]
  },
  {
   "cell_type": "code",
   "execution_count": 45,
   "id": "67b57a7a",
   "metadata": {},
   "outputs": [
    {
     "data": {
      "text/latex": [
       "Quantum object: dims = [[2, 2], [1, 1]], shape = (4, 1), type = ket $ \\\\ \\left(\\begin{matrix}0.0\\\\1.0\\\\0.0\\\\0.0\\\\\\end{matrix}\\right)$"
      ],
      "text/plain": [
       "Quantum object: dims = [[2, 2], [1, 1]], shape = (4, 1), type = ket\n",
       "Qobj data =\n",
       "[[0.]\n",
       " [1.]\n",
       " [0.]\n",
       " [0.]]"
      ]
     },
     "execution_count": 45,
     "metadata": {},
     "output_type": "execute_result"
    }
   ],
   "source": [
    "ψ2"
   ]
  },
  {
   "cell_type": "code",
   "execution_count": 46,
   "id": "7713199e",
   "metadata": {},
   "outputs": [
    {
     "data": {
      "text/latex": [
       "Quantum object: dims = [[2, 2], [2, 2]], shape = (4, 4), type = oper, isherm = True $ \\\\ \\left(\\begin{matrix}1.0 & 0.0 & 0.0 & 0.0\\\\0.0 & 1.0 & 0.0 & 0.0\\\\0.0 & 0.0 & -1.0 & 0.0\\\\0.0 & 0.0 & 0.0 & -1.0\\\\\\end{matrix}\\right)$"
      ],
      "text/plain": [
       "Quantum object: dims = [[2, 2], [2, 2]], shape = (4, 4), type = oper, isherm = True\n",
       "Qobj data =\n",
       "[[ 1.  0.  0.  0.]\n",
       " [ 0.  1.  0.  0.]\n",
       " [ 0.  0. -1.  0.]\n",
       " [ 0.  0.  0. -1.]]"
      ]
     },
     "execution_count": 46,
     "metadata": {},
     "output_type": "execute_result"
    }
   ],
   "source": [
    "sz1 = qt.tensor(qt.sigmaz(), qt.qeye(2))\n",
    "sz1"
   ]
  },
  {
   "cell_type": "code",
   "execution_count": 49,
   "id": "7f17bbea",
   "metadata": {},
   "outputs": [
    {
     "data": {
      "text/plain": [
       "False"
      ]
     },
     "execution_count": 49,
     "metadata": {},
     "output_type": "execute_result"
    }
   ],
   "source": [
    "sz1*ψ1 == ψ1"
   ]
  },
  {
   "cell_type": "code",
   "execution_count": 50,
   "id": "ae5f8710",
   "metadata": {},
   "outputs": [
    {
     "data": {
      "text/plain": [
       "True"
      ]
     },
     "execution_count": 50,
     "metadata": {},
     "output_type": "execute_result"
    }
   ],
   "source": [
    "sz1*ψ2 == ψ2"
   ]
  },
  {
   "cell_type": "code",
   "execution_count": 51,
   "id": "b73c670b",
   "metadata": {},
   "outputs": [
    {
     "data": {
      "text/latex": [
       "Quantum object: dims = [[2, 2], [2, 2]], shape = (4, 4), type = oper, isherm = True $ \\\\ \\left(\\begin{matrix}1.0 & 0.0 & 0.0 & 0.0\\\\0.0 & -1.0 & 0.0 & 0.0\\\\0.0 & 0.0 & 1.0 & 0.0\\\\0.0 & 0.0 & 0.0 & -1.0\\\\\\end{matrix}\\right)$"
      ],
      "text/plain": [
       "Quantum object: dims = [[2, 2], [2, 2]], shape = (4, 4), type = oper, isherm = True\n",
       "Qobj data =\n",
       "[[ 1.  0.  0.  0.]\n",
       " [ 0. -1.  0.  0.]\n",
       " [ 0.  0.  1.  0.]\n",
       " [ 0.  0.  0. -1.]]"
      ]
     },
     "execution_count": 51,
     "metadata": {},
     "output_type": "execute_result"
    }
   ],
   "source": [
    "sz2 = qt.tensor(qt.qeye(2), qt.sigmaz())\n",
    "sz2"
   ]
  },
  {
   "cell_type": "code",
   "execution_count": 52,
   "id": "820bd23f",
   "metadata": {},
   "outputs": [
    {
     "data": {
      "text/plain": [
       "True"
      ]
     },
     "execution_count": 52,
     "metadata": {},
     "output_type": "execute_result"
    }
   ],
   "source": [
    "sz2*ψ1 == ψ1"
   ]
  },
  {
   "cell_type": "code",
   "execution_count": 53,
   "id": "450102ad",
   "metadata": {},
   "outputs": [
    {
     "data": {
      "text/plain": [
       "False"
      ]
     },
     "execution_count": 53,
     "metadata": {},
     "output_type": "execute_result"
    }
   ],
   "source": [
    "sz2*ψ2 == ψ2"
   ]
  },
  {
   "cell_type": "markdown",
   "id": "5612ea84",
   "metadata": {},
   "source": [
    "# Jaynes-Cumming Hamiltonian"
   ]
  },
  {
   "cell_type": "markdown",
   "id": "2ed02e07",
   "metadata": {},
   "source": [
    "$$\n",
    "H = \\omega_c a^\\dagger a - \\frac{1}{2} \\omega_a \\sigma_z + g(a \\sigma_+ + a^\\dagger \\sigma_-)\n",
    "$$"
   ]
  },
  {
   "cell_type": "code",
   "execution_count": 58,
   "id": "093a0bd3",
   "metadata": {},
   "outputs": [],
   "source": [
    "wc = 1.0;\n",
    "wa = 1.0;\n",
    "g = 0.1;\n",
    "\n",
    "a = qt.tensor(qt.destroy(3), qt.qeye(2))\n",
    "ad = qt.tensor(qt.create(3), qt.qeye(2))\n",
    "sp = qt.tensor(qt.qeye(3), qt.create(2))\n",
    "sm = qt.tensor(qt.qeye(3), qt.destroy(2))\n",
    "Hc = wc*ad*a\n",
    "Ha = -0.5*wa*qt.tensor(qt.qeye(3), qt.sigmaz())\n",
    "Hc = g*(a*sp + ad*sm)\n",
    "H_JC = Hc + Ha + Hc"
   ]
  },
  {
   "cell_type": "code",
   "execution_count": 60,
   "id": "b96df134",
   "metadata": {},
   "outputs": [
    {
     "data": {
      "text/latex": [
       "Quantum object: dims = [[3, 2], [3, 2]], shape = (6, 6), type = oper, isherm = True $ \\\\ \\left(\\begin{matrix}-0.500 & 0.0 & 0.0 & 0.0 & 0.0 & 0.0\\\\0.0 & 0.500 & 0.200 & 0.0 & 0.0 & 0.0\\\\0.0 & 0.200 & -0.500 & 0.0 & 0.0 & 0.0\\\\0.0 & 0.0 & 0.0 & 0.500 & 0.283 & 0.0\\\\0.0 & 0.0 & 0.0 & 0.283 & -0.500 & 0.0\\\\0.0 & 0.0 & 0.0 & 0.0 & 0.0 & 0.500\\\\\\end{matrix}\\right)$"
      ],
      "text/plain": [
       "Quantum object: dims = [[3, 2], [3, 2]], shape = (6, 6), type = oper, isherm = True\n",
       "Qobj data =\n",
       "[[-0.5         0.          0.          0.          0.          0.        ]\n",
       " [ 0.          0.5         0.2         0.          0.          0.        ]\n",
       " [ 0.          0.2        -0.5         0.          0.          0.        ]\n",
       " [ 0.          0.          0.          0.5         0.28284271  0.        ]\n",
       " [ 0.          0.          0.          0.28284271 -0.5         0.        ]\n",
       " [ 0.          0.          0.          0.          0.          0.5       ]]"
      ]
     },
     "execution_count": 60,
     "metadata": {},
     "output_type": "execute_result"
    }
   ],
   "source": [
    "H_JC"
   ]
  },
  {
   "cell_type": "markdown",
   "id": "83435d01",
   "metadata": {},
   "source": [
    "# Unitary dynamics"
   ]
  },
  {
   "cell_type": "code",
   "execution_count": null,
   "id": "6f9f8d47",
   "metadata": {},
   "outputs": [],
   "source": []
  },
  {
   "cell_type": "code",
   "execution_count": 87,
   "id": "7d160f28",
   "metadata": {},
   "outputs": [],
   "source": [
    "H = qt.sigmax()\n",
    "s = qt.basis(2,0)\n",
    "tlist = np.linspace(0,10,100)\n",
    "res = qt.mesolve(H,s,tlist)"
   ]
  },
  {
   "cell_type": "code",
   "execution_count": 70,
   "id": "350ba8e6",
   "metadata": {},
   "outputs": [
    {
     "data": {
      "text/plain": [
       "100"
      ]
     },
     "execution_count": 70,
     "metadata": {},
     "output_type": "execute_result"
    }
   ],
   "source": [
    "len(res.states)"
   ]
  },
  {
   "cell_type": "code",
   "execution_count": 71,
   "id": "61d9ef89",
   "metadata": {},
   "outputs": [
    {
     "data": {
      "text/latex": [
       "Quantum object: dims = [[2], [1]], shape = (2, 1), type = ket $ \\\\ \\left(\\begin{matrix}0.544j\\\\-0.839\\\\\\end{matrix}\\right)$"
      ],
      "text/plain": [
       "Quantum object: dims = [[2], [1]], shape = (2, 1), type = ket\n",
       "Qobj data =\n",
       "[[ 0.       +0.54401206j]\n",
       " [-0.8390774+0.j        ]]"
      ]
     },
     "execution_count": 71,
     "metadata": {},
     "output_type": "execute_result"
    }
   ],
   "source": [
    "res.states[-1]"
   ]
  },
  {
   "cell_type": "markdown",
   "id": "14452192",
   "metadata": {},
   "source": [
    "# Expectation values"
   ]
  },
  {
   "cell_type": "code",
   "execution_count": 72,
   "id": "2cb3a11d",
   "metadata": {},
   "outputs": [
    {
     "data": {
      "text/plain": [
       "-0.40810176186455965"
      ]
     },
     "execution_count": 72,
     "metadata": {},
     "output_type": "execute_result"
    }
   ],
   "source": [
    "qt.expect(qt.sigmaz(), res.states[-1])"
   ]
  },
  {
   "cell_type": "code",
   "execution_count": 89,
   "id": "c63860a3",
   "metadata": {},
   "outputs": [
    {
     "data": {
      "image/png": "[encoded data removed]",
      "text/plain": [
       "<Figure size 640x480 with 1 Axes>"
      ]
     },
     "metadata": {},
     "output_type": "display_data"
    }
   ],
   "source": [
    "fig, axes = plt.subplots()\n",
    "axes.plot(tlist, qt.expect(qt.sigmaz(), res.states))\n",
    "axes.plot(tlist, qt.expect(qt.sigmay(), res.states), 'r')\n",
    "axes.plot(tlist, qt.expect(qt.sigmax(), res.states), 'g')\n",
    "axes.set_xlabel(\"t\", fontsize=12)\n",
    "axes.set_ylabel(r\"$\\left< \\sigma_z \\right>$\", fontsize=12)\n",
    "plt.show()"
   ]
  },
  {
   "cell_type": "code",
   "execution_count": 90,
   "id": "73147295",
   "metadata": {},
   "outputs": [],
   "source": [
    "res2 = qt.mesolve(H,s,tlist, [],[qt.sigmax(), qt.sigmay(), qt.sigmaz()])"
   ]
  },
  {
   "cell_type": "code",
   "execution_count": 102,
   "id": "f1b32f51",
   "metadata": {},
   "outputs": [
    {
     "data": {
      "image/png": "[encoded data removed]",
      "text/plain": [
       "<Figure size 640x480 with 1 Axes>"
      ]
     },
     "metadata": {},
     "output_type": "display_data"
    }
   ],
   "source": [
    "fig, axes = plt.subplots(1,1)\n",
    "axes.plot(tlist, res2.expect[0], label=r\"$\\left< \\sigma_x \\right>$\")\n",
    "axes.plot(tlist, res2.expect[1], label=r\"$\\left< \\sigma_y \\right>$\")\n",
    "axes.plot(tlist, res2.expect[2], label=r\"$\\left< \\sigma_z \\right>$\")\n",
    "axes.set_xlabel(r\"$t$\", fontsize=12)\n",
    "axes.legend(loc=1)\n",
    "plt.show()"
   ]
  },
  {
   "cell_type": "markdown",
   "id": "5f662850",
   "metadata": {},
   "source": [
    "# Add dissipation to a problem"
   ]
  },
  {
   "cell_type": "markdown",
   "id": "aeb2dd87",
   "metadata": {},
   "source": [
    "We consider a harmonic oscillator \n",
    "$$\n",
    "    H = h w a^\\dagger a   \n",
    "$$\n",
    "\n",
    "To add dissipation we use $a$ operator with dissipation rate $\\sqrt \\kappa  $"
   ]
  },
  {
   "cell_type": "code",
   "execution_count": 103,
   "id": "ceb5e0cd",
   "metadata": {},
   "outputs": [],
   "source": [
    "w = 1.0; \n",
    "k = 0.1; \n",
    "a = qt.destroy(10);\n",
    "ad = qt.create(10);\n",
    "ρ0 = qt.fock_dm(10,5)\n",
    "H = w*ad*a\n",
    "c_ops = [np.sqrt(k)*a]\n",
    "tlist = np.linspace(0,50,100);\n",
    "res3 = qt.mesolve(H, ρ0, tlist,c_ops, [ad*a])"
   ]
  },
  {
   "cell_type": "code",
   "execution_count": 106,
   "id": "9739d2c7",
   "metadata": {},
   "outputs": [
    {
     "data": {
      "image/png": "[encoded data removed]",
      "text/plain": [
       "<Figure size 640x480 with 1 Axes>"
      ]
     },
     "metadata": {},
     "output_type": "display_data"
    }
   ],
   "source": [
    "fig, axes = plt.subplots(1,1)\n",
    "axes.plot(tlist, res3.expect[0])\n",
    "axes.set_xlabel(r\"$t$\", fontsize=12)\n",
    "axes.set_ylabel(r\"$Photon number$\", fontsize=12)\n",
    "plt.show()"
   ]
  },
  {
   "cell_type": "code",
   "execution_count": null,
   "id": "ef1763f5",
   "metadata": {},
   "outputs": [],
   "source": []
  }
 ],
 "metadata": {
  "kernelspec": {
   "display_name": "Python 3 (ipykernel)",
   "language": "python",
   "name": "python3"
  },
  "language_info": {
   "codemirror_mode": {
    "name": "ipython",
    "version": 3
   },
   "file_extension": ".py",
   "mimetype": "text/x-python",
   "name": "python",
   "nbconvert_exporter": "python",
   "pygments_lexer": "ipython3",
   "version": "3.9.13"
  }
 },
 "nbformat": 4,
 "nbformat_minor": 5
}
