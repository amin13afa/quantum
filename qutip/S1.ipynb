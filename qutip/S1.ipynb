{
 "cells": [
  {
   "cell_type": "markdown",
   "id": "5c9ae515",
   "metadata": {},
   "source": [
    "- [ ] Import libraries\n",
    "- [ ] Quantum states and density matrises\n",
    "- [ ] Quantum operators\n",
    "- [ ] Composite systems "
   ]
  },
  {
   "cell_type": "markdown",
   "id": "f01c4c29",
   "metadata": {},
   "source": [
    "# Import libraries"
   ]
  },
  {
   "cell_type": "code",
   "execution_count": 1,
   "id": "2f22c648",
   "metadata": {},
   "outputs": [],
   "source": [
    "import numpy as np \n",
    "import matplotlib.pyplot as plt \n",
    "import qutip as qt"
   ]
  },
  {
   "cell_type": "markdown",
   "id": "ac87e0ae",
   "metadata": {},
   "source": [
    "# Quantum states and density matrises"
   ]
  },
  {
   "cell_type": "markdown",
   "id": "a6e74367",
   "metadata": {},
   "source": [
    "### Fock states"
   ]
  },
  {
   "cell_type": "code",
   "execution_count": 3,
   "id": "2668a2d9",
   "metadata": {},
   "outputs": [
    {
     "data": {
      "text/latex": [
       "Quantum object: dims = [[4], [1]], shape = (4, 1), type = ket $ \\\\ \\left(\\begin{matrix}0.0\\\\1.0\\\\0.0\\\\0.0\\\\\\end{matrix}\\right)$"
      ],
      "text/plain": [
       "Quantum object: dims = [[4], [1]], shape = (4, 1), type = ket\n",
       "Qobj data =\n",
       "[[0.]\n",
       " [1.]\n",
       " [0.]\n",
       " [0.]]"
      ]
     },
     "execution_count": 3,
     "metadata": {},
     "output_type": "execute_result"
    }
   ],
   "source": [
    "# number of states in the Hilbert space \n",
    "N = 4;\n",
    "#  occupied state\n",
    "n = 1;\n",
    "qt.basis(N,n)   # equivalent to fock(N, n)"
   ]
  },
  {
   "cell_type": "code",
   "execution_count": 4,
   "id": "bacbf1fc",
   "metadata": {},
   "outputs": [
    {
     "data": {
      "text/latex": [
       "Quantum object: dims = [[4], [1]], shape = (4, 1), type = ket $ \\\\ \\left(\\begin{matrix}0.0\\\\1.0\\\\0.0\\\\0.0\\\\\\end{matrix}\\right)$"
      ],
      "text/plain": [
       "Quantum object: dims = [[4], [1]], shape = (4, 1), type = ket\n",
       "Qobj data =\n",
       "[[0.]\n",
       " [1.]\n",
       " [0.]\n",
       " [0.]]"
      ]
     },
     "execution_count": 4,
     "metadata": {},
     "output_type": "execute_result"
    }
   ],
   "source": [
    "qt.fock(N,n)"
   ]
  },
  {
   "cell_type": "markdown",
   "id": "43687cd3",
   "metadata": {},
   "source": [
    "### coherent state"
   ]
  },
  {
   "cell_type": "code",
   "execution_count": 6,
   "id": "812c8554",
   "metadata": {},
   "outputs": [
    {
     "data": {
      "text/latex": [
       "Quantum object: dims = [[4], [1]], shape = (4, 1), type = ket $ \\\\ \\left(\\begin{matrix}0.606\\\\0.610\\\\0.412\\\\0.301\\\\\\end{matrix}\\right)$"
      ],
      "text/plain": [
       "Quantum object: dims = [[4], [1]], shape = (4, 1), type = ket\n",
       "Qobj data =\n",
       "[[0.60605894]\n",
       " [0.6100857 ]\n",
       " [0.41242505]\n",
       " [0.30065525]]"
      ]
     },
     "execution_count": 6,
     "metadata": {},
     "output_type": "execute_result"
    }
   ],
   "source": [
    "qt.coherent(N=4,alpha=1.0)"
   ]
  },
  {
   "cell_type": "code",
   "execution_count": 7,
   "id": "0510f790",
   "metadata": {},
   "outputs": [],
   "source": [
    "# My Q\n",
    "# what are coherent states? \n",
    "# what are the most important differences between coherent states and other states (such as fock)"
   ]
  },
  {
   "cell_type": "markdown",
   "id": "0c3a34da",
   "metadata": {},
   "source": [
    "### Density matrices"
   ]
  },
  {
   "cell_type": "code",
   "execution_count": 8,
   "id": "3eefd89e",
   "metadata": {},
   "outputs": [
    {
     "data": {
      "text/latex": [
       "Quantum object: dims = [[4], [4]], shape = (4, 4), type = oper, isherm = True $ \\\\ \\left(\\begin{matrix}0.0 & 0.0 & 0.0 & 0.0\\\\0.0 & 1.0 & 0.0 & 0.0\\\\0.0 & 0.0 & 0.0 & 0.0\\\\0.0 & 0.0 & 0.0 & 0.0\\\\\\end{matrix}\\right)$"
      ],
      "text/plain": [
       "Quantum object: dims = [[4], [4]], shape = (4, 4), type = oper, isherm = True\n",
       "Qobj data =\n",
       "[[0. 0. 0. 0.]\n",
       " [0. 1. 0. 0.]\n",
       " [0. 0. 0. 0.]\n",
       " [0. 0. 0. 0.]]"
      ]
     },
     "execution_count": 8,
     "metadata": {},
     "output_type": "execute_result"
    }
   ],
   "source": [
    "qt.fock_dm(4,1)"
   ]
  },
  {
   "cell_type": "code",
   "execution_count": 9,
   "id": "9ca9e2d2",
   "metadata": {},
   "outputs": [
    {
     "data": {
      "text/latex": [
       "Quantum object: dims = [[4], [4]], shape = (4, 4), type = oper, isherm = True $ \\\\ \\left(\\begin{matrix}0.367 & 0.370 & 0.250 & 0.182\\\\0.370 & 0.372 & 0.252 & 0.183\\\\0.250 & 0.252 & 0.170 & 0.124\\\\0.182 & 0.183 & 0.124 & 0.090\\\\\\end{matrix}\\right)$"
      ],
      "text/plain": [
       "Quantum object: dims = [[4], [4]], shape = (4, 4), type = oper, isherm = True\n",
       "Qobj data =\n",
       "[[0.36730744 0.36974789 0.24995389 0.1822148 ]\n",
       " [0.36974789 0.37220456 0.25161463 0.18342547]\n",
       " [0.24995389 0.25161463 0.17009442 0.12399776]\n",
       " [0.1822148  0.18342547 0.12399776 0.09039358]]"
      ]
     },
     "execution_count": 9,
     "metadata": {},
     "output_type": "execute_result"
    }
   ],
   "source": [
    "qt.coherent_dm(4,1.0)"
   ]
  },
  {
   "cell_type": "code",
   "execution_count": null,
   "id": "c6073602",
   "metadata": {},
   "outputs": [],
   "source": [
    "# What are thermal states? \n",
    "# What does \"average number of thermal photons\" var do? \n",
    "# why thermal states do not have states??? "
   ]
  },
  {
   "cell_type": "code",
   "execution_count": 10,
   "id": "77fb9df3",
   "metadata": {},
   "outputs": [
    {
     "data": {
      "text/latex": [
       "Quantum object: dims = [[8], [8]], shape = (8, 8), type = oper, isherm = True $ \\\\ \\left(\\begin{matrix}0.502 & 0.0 & 0.0 & 0.0 & 0.0 & 0.0 & 0.0 & 0.0\\\\0.0 & 0.251 & 0.0 & 0.0 & 0.0 & 0.0 & 0.0 & 0.0\\\\0.0 & 0.0 & 0.125 & 0.0 & 0.0 & 0.0 & 0.0 & 0.0\\\\0.0 & 0.0 & 0.0 & 0.063 & 0.0 & 0.0 & 0.0 & 0.0\\\\0.0 & 0.0 & 0.0 & 0.0 & 0.031 & 0.0 & 0.0 & 0.0\\\\0.0 & 0.0 & 0.0 & 0.0 & 0.0 & 0.016 & 0.0 & 0.0\\\\0.0 & 0.0 & 0.0 & 0.0 & 0.0 & 0.0 & 0.008 & 0.0\\\\0.0 & 0.0 & 0.0 & 0.0 & 0.0 & 0.0 & 0.0 & 0.004\\\\\\end{matrix}\\right)$"
      ],
      "text/plain": [
       "Quantum object: dims = [[8], [8]], shape = (8, 8), type = oper, isherm = True\n",
       "Qobj data =\n",
       "[[0.50196078 0.         0.         0.         0.         0.\n",
       "  0.         0.        ]\n",
       " [0.         0.25098039 0.         0.         0.         0.\n",
       "  0.         0.        ]\n",
       " [0.         0.         0.1254902  0.         0.         0.\n",
       "  0.         0.        ]\n",
       " [0.         0.         0.         0.0627451  0.         0.\n",
       "  0.         0.        ]\n",
       " [0.         0.         0.         0.         0.03137255 0.\n",
       "  0.         0.        ]\n",
       " [0.         0.         0.         0.         0.         0.01568627\n",
       "  0.         0.        ]\n",
       " [0.         0.         0.         0.         0.         0.\n",
       "  0.00784314 0.        ]\n",
       " [0.         0.         0.         0.         0.         0.\n",
       "  0.         0.00392157]]"
      ]
     },
     "execution_count": 10,
     "metadata": {},
     "output_type": "execute_result"
    }
   ],
   "source": [
    "# thermal states \n",
    "nt = 1;   # average number of thermal photons\n",
    "qt.thermal_dm(8,n)"
   ]
  },
  {
   "cell_type": "markdown",
   "id": "dbdbe654",
   "metadata": {},
   "source": [
    "## Quantum operators"
   ]
  },
  {
   "cell_type": "markdown",
   "id": "bac90d49",
   "metadata": {},
   "source": [
    "### Qubit operator"
   ]
  },
  {
   "cell_type": "code",
   "execution_count": 12,
   "id": "ca9bd8c1",
   "metadata": {},
   "outputs": [
    {
     "data": {
      "text/latex": [
       "Quantum object: dims = [[2], [2]], shape = (2, 2), type = oper, isherm = True $ \\\\ \\left(\\begin{matrix}0.0 & 1.0\\\\1.0 & 0.0\\\\\\end{matrix}\\right)$"
      ],
      "text/plain": [
       "Quantum object: dims = [[2], [2]], shape = (2, 2), type = oper, isherm = True\n",
       "Qobj data =\n",
       "[[0. 1.]\n",
       " [1. 0.]]"
      ]
     },
     "execution_count": 12,
     "metadata": {},
     "output_type": "execute_result"
    }
   ],
   "source": [
    "# Pauli operators \n",
    "qt.sigmax()"
   ]
  },
  {
   "cell_type": "code",
   "execution_count": 13,
   "id": "ee3190dc",
   "metadata": {},
   "outputs": [
    {
     "data": {
      "text/latex": [
       "Quantum object: dims = [[2], [2]], shape = (2, 2), type = oper, isherm = True $ \\\\ \\left(\\begin{matrix}0.0 & -1.0j\\\\1.0j & 0.0\\\\\\end{matrix}\\right)$"
      ],
      "text/plain": [
       "Quantum object: dims = [[2], [2]], shape = (2, 2), type = oper, isherm = True\n",
       "Qobj data =\n",
       "[[0.+0.j 0.-1.j]\n",
       " [0.+1.j 0.+0.j]]"
      ]
     },
     "execution_count": 13,
     "metadata": {},
     "output_type": "execute_result"
    }
   ],
   "source": [
    "qt.sigmay()"
   ]
  },
  {
   "cell_type": "code",
   "execution_count": 14,
   "id": "ecc9421b",
   "metadata": {},
   "outputs": [
    {
     "data": {
      "text/latex": [
       "Quantum object: dims = [[2], [2]], shape = (2, 2), type = oper, isherm = True $ \\\\ \\left(\\begin{matrix}1.0 & 0.0\\\\0.0 & -1.0\\\\\\end{matrix}\\right)$"
      ],
      "text/plain": [
       "Quantum object: dims = [[2], [2]], shape = (2, 2), type = oper, isherm = True\n",
       "Qobj data =\n",
       "[[ 1.  0.]\n",
       " [ 0. -1.]]"
      ]
     },
     "execution_count": 14,
     "metadata": {},
     "output_type": "execute_result"
    }
   ],
   "source": [
    "qt.sigmaz()"
   ]
  },
  {
   "cell_type": "code",
   "execution_count": 15,
   "id": "6c492161",
   "metadata": {},
   "outputs": [
    {
     "data": {
      "text/latex": [
       "Quantum object: dims = [[2], [2]], shape = (2, 2), type = oper, isherm = False $ \\\\ \\left(\\begin{matrix}0.0 & 1.0\\\\0.0 & 0.0\\\\\\end{matrix}\\right)$"
      ],
      "text/plain": [
       "Quantum object: dims = [[2], [2]], shape = (2, 2), type = oper, isherm = False\n",
       "Qobj data =\n",
       "[[0. 1.]\n",
       " [0. 0.]]"
      ]
     },
     "execution_count": 15,
     "metadata": {},
     "output_type": "execute_result"
    }
   ],
   "source": [
    "# Pauli spin's creation and annihilation operator\n",
    "qt.sigmap()"
   ]
  },
  {
   "cell_type": "code",
   "execution_count": 16,
   "id": "dd661044",
   "metadata": {},
   "outputs": [
    {
     "data": {
      "text/latex": [
       "Quantum object: dims = [[2], [2]], shape = (2, 2), type = oper, isherm = False $ \\\\ \\left(\\begin{matrix}0.0 & 0.0\\\\1.0 & 0.0\\\\\\end{matrix}\\right)$"
      ],
      "text/plain": [
       "Quantum object: dims = [[2], [2]], shape = (2, 2), type = oper, isherm = False\n",
       "Qobj data =\n",
       "[[0. 0.]\n",
       " [1. 0.]]"
      ]
     },
     "execution_count": 16,
     "metadata": {},
     "output_type": "execute_result"
    }
   ],
   "source": [
    "qt.sigmam()"
   ]
  },
  {
   "cell_type": "markdown",
   "id": "4ecdf9ae",
   "metadata": {},
   "source": [
    "### Harmonic oscillator operators"
   ]
  },
  {
   "cell_type": "code",
   "execution_count": 17,
   "id": "ad294dea",
   "metadata": {},
   "outputs": [
    {
     "data": {
      "text/latex": [
       "Quantum object: dims = [[4], [4]], shape = (4, 4), type = oper, isherm = False $ \\\\ \\left(\\begin{matrix}0.0 & 1.0 & 0.0 & 0.0\\\\0.0 & 0.0 & 1.414 & 0.0\\\\0.0 & 0.0 & 0.0 & 1.732\\\\0.0 & 0.0 & 0.0 & 0.0\\\\\\end{matrix}\\right)$"
      ],
      "text/plain": [
       "Quantum object: dims = [[4], [4]], shape = (4, 4), type = oper, isherm = False\n",
       "Qobj data =\n",
       "[[0.         1.         0.         0.        ]\n",
       " [0.         0.         1.41421356 0.        ]\n",
       " [0.         0.         0.         1.73205081]\n",
       " [0.         0.         0.         0.        ]]"
      ]
     },
     "execution_count": 17,
     "metadata": {},
     "output_type": "execute_result"
    }
   ],
   "source": [
    "# annihilation operator \n",
    "qt.destroy(N = 4) # N = number of fock states included in the Hilbert space"
   ]
  },
  {
   "cell_type": "code",
   "execution_count": 19,
   "id": "56e8428d",
   "metadata": {},
   "outputs": [
    {
     "data": {
      "text/latex": [
       "Quantum object: dims = [[4], [4]], shape = (4, 4), type = oper, isherm = False $ \\\\ \\left(\\begin{matrix}0.0 & 0.0 & 0.0 & 0.0\\\\1.0 & 0.0 & 0.0 & 0.0\\\\0.0 & 1.414 & 0.0 & 0.0\\\\0.0 & 0.0 & 1.732 & 0.0\\\\\\end{matrix}\\right)$"
      ],
      "text/plain": [
       "Quantum object: dims = [[4], [4]], shape = (4, 4), type = oper, isherm = False\n",
       "Qobj data =\n",
       "[[0.         0.         0.         0.        ]\n",
       " [1.         0.         0.         0.        ]\n",
       " [0.         1.41421356 0.         0.        ]\n",
       " [0.         0.         1.73205081 0.        ]]"
      ]
     },
     "execution_count": 19,
     "metadata": {},
     "output_type": "execute_result"
    }
   ],
   "source": [
    "# creation operator\n",
    "qt.create(N=4) # equivalent to destroy(N=4).dag()"
   ]
  },
  {
   "cell_type": "code",
   "execution_count": 20,
   "id": "27766531",
   "metadata": {},
   "outputs": [
    {
     "data": {
      "text/latex": [
       "Quantum object: dims = [[4], [4]], shape = (4, 4), type = oper, isherm = True $ \\\\ \\left(\\begin{matrix}0.0 & 1.0 & 0.0 & 0.0\\\\1.0 & 0.0 & 1.414 & 0.0\\\\0.0 & 1.414 & 0.0 & 1.732\\\\0.0 & 0.0 & 1.732 & 0.0\\\\\\end{matrix}\\right)$"
      ],
      "text/plain": [
       "Quantum object: dims = [[4], [4]], shape = (4, 4), type = oper, isherm = True\n",
       "Qobj data =\n",
       "[[0.         1.         0.         0.        ]\n",
       " [1.         0.         1.41421356 0.        ]\n",
       " [0.         1.41421356 0.         1.73205081]\n",
       " [0.         0.         1.73205081 0.        ]]"
      ]
     },
     "execution_count": 20,
     "metadata": {},
     "output_type": "execute_result"
    }
   ],
   "source": [
    "# Example \n",
    "# create position operator \n",
    "a = qt.destroy(4)\n",
    "ad = a.dag()\n",
    "x = a + ad\n",
    "x"
   ]
  },
  {
   "cell_type": "code",
   "execution_count": 21,
   "id": "4cf76272",
   "metadata": {},
   "outputs": [
    {
     "data": {
      "text/latex": [
       "Quantum object: dims = [[4], [4]], shape = (4, 4), type = oper, isherm = True $ \\\\ \\left(\\begin{matrix}1.0 & 0.0 & 0.0 & 0.0\\\\0.0 & 1.0 & 0.0 & 0.0\\\\0.0 & 0.0 & 1.000 & 0.0\\\\0.0 & 0.0 & 0.0 & -3.000\\\\\\end{matrix}\\right)$"
      ],
      "text/plain": [
       "Quantum object: dims = [[4], [4]], shape = (4, 4), type = oper, isherm = True\n",
       "Qobj data =\n",
       "[[ 1.  0.  0.  0.]\n",
       " [ 0.  1.  0.  0.]\n",
       " [ 0.  0.  1.  0.]\n",
       " [ 0.  0.  0. -3.]]"
      ]
     },
     "execution_count": 21,
     "metadata": {},
     "output_type": "execute_result"
    }
   ],
   "source": [
    "# commutator of two operators \n",
    "qt.commutator(a,ad)"
   ]
  },
  {
   "cell_type": "markdown",
   "id": "1fca40c0",
   "metadata": {},
   "source": [
    "$$\n",
    "[X,P] = i\n",
    "$$"
   ]
  },
  {
   "cell_type": "code",
   "execution_count": 25,
   "id": "3ec419f4",
   "metadata": {},
   "outputs": [
    {
     "data": {
      "text/latex": [
       "Quantum object: dims = [[4], [4]], shape = (4, 4), type = oper, isherm = False $ \\\\ \\left(\\begin{matrix}1.000j & 0.0 & 0.0 & 0.0\\\\0.0 & 1.0j & 0.0 & 0.0\\\\0.0 & 0.0 & 1.000j & 0.0\\\\0.0 & 0.0 & 0.0 & -3.000j\\\\\\end{matrix}\\right)$"
      ],
      "text/plain": [
       "Quantum object: dims = [[4], [4]], shape = (4, 4), type = oper, isherm = False\n",
       "Qobj data =\n",
       "[[0.+1.j 0.+0.j 0.+0.j 0.+0.j]\n",
       " [0.+0.j 0.+1.j 0.+0.j 0.+0.j]\n",
       " [0.+0.j 0.+0.j 0.+1.j 0.+0.j]\n",
       " [0.+0.j 0.+0.j 0.+0.j 0.-3.j]]"
      ]
     },
     "execution_count": 25,
     "metadata": {},
     "output_type": "execute_result"
    }
   ],
   "source": [
    "X = (a + ad)/np.sqrt(2);\n",
    "P = -1j*(a - ad)/np.sqrt(2);\n",
    "qt.commutator(X,P)"
   ]
  },
  {
   "cell_type": "code",
   "execution_count": 22,
   "id": "37be3401",
   "metadata": {},
   "outputs": [],
   "source": [
    "# qutip have truncated the Hilbert space \n",
    "# The highest Fock state is not involved in the dynamics (in qutip's truncated HS) "
   ]
  },
  {
   "cell_type": "markdown",
   "id": "5f612e7d",
   "metadata": {},
   "source": [
    "Let's check if \n",
    "$$\n",
    "[\\sigma_x , \\sigma_y] = 2i\\sigma_z\n",
    "$$"
   ]
  },
  {
   "cell_type": "code",
   "execution_count": 26,
   "id": "8f3a91f6",
   "metadata": {},
   "outputs": [
    {
     "data": {
      "text/latex": [
       "Quantum object: dims = [[2], [2]], shape = (2, 2), type = oper, isherm = True $ \\\\ \\left(\\begin{matrix}0.0 & 0.0\\\\0.0 & 0.0\\\\\\end{matrix}\\right)$"
      ],
      "text/plain": [
       "Quantum object: dims = [[2], [2]], shape = (2, 2), type = oper, isherm = True\n",
       "Qobj data =\n",
       "[[0. 0.]\n",
       " [0. 0.]]"
      ]
     },
     "execution_count": 26,
     "metadata": {},
     "output_type": "execute_result"
    }
   ],
   "source": [
    "qt.commutator(qt.sigmax() , qt.sigmay()) - 2j*qt.sigmaz()"
   ]
  },
  {
   "cell_type": "code",
   "execution_count": 28,
   "id": "1edb4d2f",
   "metadata": {},
   "outputs": [
    {
     "data": {
      "text/latex": [
       "Quantum object: dims = [[2], [2]], shape = (2, 2), type = oper, isherm = True $ \\\\ \\left(\\begin{matrix}1.0 & 0.0\\\\0.0 & 1.0\\\\\\end{matrix}\\right)$"
      ],
      "text/plain": [
       "Quantum object: dims = [[2], [2]], shape = (2, 2), type = oper, isherm = True\n",
       "Qobj data =\n",
       "[[1. 0.]\n",
       " [0. 1.]]"
      ]
     },
     "execution_count": 28,
     "metadata": {},
     "output_type": "execute_result"
    }
   ],
   "source": [
    "# Multiplication and power of Pauli's operators\n",
    "-1j * qt.sigmax() * qt.sigmay() * qt.sigmaz()"
   ]
  },
  {
   "cell_type": "code",
   "execution_count": 31,
   "id": "2bae4477",
   "metadata": {},
   "outputs": [
    {
     "data": {
      "text/plain": [
       "True"
      ]
     },
     "execution_count": 31,
     "metadata": {},
     "output_type": "execute_result"
    }
   ],
   "source": [
    "qt.sigmax() **2 == qt.sigmay() **2 == qt.sigmaz()**2 == qt.qeye(2)"
   ]
  },
  {
   "cell_type": "markdown",
   "id": "862ba064",
   "metadata": {},
   "source": [
    "## Composite systems "
   ]
  },
  {
   "cell_type": "markdown",
   "id": "4fdd9200",
   "metadata": {},
   "source": [
    "$$\n",
    "\\sigma_z \\otimes I\n",
    "$$"
   ]
  },
  {
   "cell_type": "code",
   "execution_count": 33,
   "id": "1319d008",
   "metadata": {},
   "outputs": [
    {
     "data": {
      "text/latex": [
       "Quantum object: dims = [[2, 2], [2, 2]], shape = (4, 4), type = oper, isherm = True $ \\\\ \\left(\\begin{matrix}1.0 & 0.0 & 0.0 & 0.0\\\\0.0 & 1.0 & 0.0 & 0.0\\\\0.0 & 0.0 & -1.0 & 0.0\\\\0.0 & 0.0 & 0.0 & -1.0\\\\\\end{matrix}\\right)$"
      ],
      "text/plain": [
       "Quantum object: dims = [[2, 2], [2, 2]], shape = (4, 4), type = oper, isherm = True\n",
       "Qobj data =\n",
       "[[ 1.  0.  0.  0.]\n",
       " [ 0.  1.  0.  0.]\n",
       " [ 0.  0. -1.  0.]\n",
       " [ 0.  0.  0. -1.]]"
      ]
     },
     "execution_count": 33,
     "metadata": {},
     "output_type": "execute_result"
    }
   ],
   "source": [
    "sz1 = qt.tensor(qt.sigmaz(), qt.qeye(2))\n",
    "sz1"
   ]
  },
  {
   "cell_type": "code",
   "execution_count": 35,
   "id": "e7f1c21a",
   "metadata": {},
   "outputs": [
    {
     "data": {
      "text/latex": [
       "Quantum object: dims = [[2, 2], [2, 2]], shape = (4, 4), type = oper, isherm = True $ \\\\ \\left(\\begin{matrix}1.0 & 0.0 & 0.0 & 0.0\\\\0.0 & -1.0 & 0.0 & 0.0\\\\0.0 & 0.0 & 1.0 & 0.0\\\\0.0 & 0.0 & 0.0 & -1.0\\\\\\end{matrix}\\right)$"
      ],
      "text/plain": [
       "Quantum object: dims = [[2, 2], [2, 2]], shape = (4, 4), type = oper, isherm = True\n",
       "Qobj data =\n",
       "[[ 1.  0.  0.  0.]\n",
       " [ 0. -1.  0.  0.]\n",
       " [ 0.  0.  1.  0.]\n",
       " [ 0.  0.  0. -1.]]"
      ]
     },
     "execution_count": 35,
     "metadata": {},
     "output_type": "execute_result"
    }
   ],
   "source": [
    "sz2 = qt.tensor(qt.qeye(2), qt.sigmaz())\n",
    "sz2 "
   ]
  },
  {
   "cell_type": "code",
   "execution_count": 36,
   "id": "b7094e0e",
   "metadata": {},
   "outputs": [],
   "source": [
    "ψ1 = qt.tensor(qt.basis(2,1), qt.basis(2,0))\n",
    "ψ2 = qt.tensor(qt.basis(2,0), qt.basis(2,1))"
   ]
  },
  {
   "cell_type": "code",
   "execution_count": 40,
   "id": "da7a80fb",
   "metadata": {},
   "outputs": [
    {
     "data": {
      "text/plain": [
       "False"
      ]
     },
     "execution_count": 40,
     "metadata": {},
     "output_type": "execute_result"
    }
   ],
   "source": [
    "sz1 *ψ1 == ψ1"
   ]
  },
  {
   "cell_type": "code",
   "execution_count": 41,
   "id": "33d96bbf",
   "metadata": {},
   "outputs": [
    {
     "data": {
      "text/plain": [
       "True"
      ]
     },
     "execution_count": 41,
     "metadata": {},
     "output_type": "execute_result"
    }
   ],
   "source": [
    "sz1 * ψ2 == ψ2 "
   ]
  },
  {
   "cell_type": "code",
   "execution_count": null,
   "id": "203bf7bb",
   "metadata": {},
   "outputs": [],
   "source": []
  }
 ],
 "metadata": {
  "kernelspec": {
   "display_name": "Python 3 (ipykernel)",
   "language": "python",
   "name": "python3"
  },
  "language_info": {
   "codemirror_mode": {
    "name": "ipython",
    "version": 3
   },
   "file_extension": ".py",
   "mimetype": "text/x-python",
   "name": "python",
   "nbconvert_exporter": "python",
   "pygments_lexer": "ipython3",
   "version": "3.9.13"
  }
 },
 "nbformat": 4,
 "nbformat_minor": 5
}
